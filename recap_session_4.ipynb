{
 "cells": [
  {
   "cell_type": "markdown",
   "id": "0d43fe5c-d627-4605-b7a8-d3054ce6c9ae",
   "metadata": {},
   "source": [
    "# Recap Session 4:\n",
    "* Importing modules\n",
    "* OS and linux commands\n",
    "* File handling. JSON files.\n",
    "* Error control."
   ]
  },
  {
   "cell_type": "markdown",
   "id": "5b5bd4dd-6fc2-4485-a53e-08040400f3d6",
   "metadata": {},
   "source": [
    "## Importing modules\n",
    "\n",
    "So far in our classes, we've been using native functions of Python, except for some functions that are not built-in.\n",
    "\n",
    "These functions need to be imported from an external module. The modules are bundles or functions and classes that are developed for using in Python by importing them. We import modules in Python with the reserved word `import`. We can also import modules with a different name of our choice.\n",
    "\n",
    "```Python\n",
    "# import a module\n",
    "import json\n",
    "```\n",
    "\n",
    "```Python\n",
    "#importing a module with an alias: `pd` in this case\n",
    "import pandas as pd\n",
    "```\n"
   ]
  },
  {
   "cell_type": "markdown",
   "id": "fc61e5fa-8f49-4098-80eb-67261a349237",
   "metadata": {},
   "source": [
    "### Creating our own modules\n",
    "\n",
    "We can create our own modules to store functions that we use across different projects. When the module is in the same working directory we're in, we can import it as defined previously.\n",
    "\n",
    "For example, we can create a module called `utils.py` that contains a function that we want to use in other project.\n",
    "\n",
    "There are several ways in which we can use `import`:\n",
    "* `import module` will import the whole bundle under the name `module`\n",
    "    * To use its functions, we use `module.function`\n",
    "* `from module import func` will import a specific function from the module\n",
    "    * To use the imported function we use it directly: `func`\n",
    "* `from module import *` will import **all** the functions individually\n",
    "    * To use each function, we use each one by its name: `func`"
   ]
  },
  {
   "cell_type": "code",
   "execution_count": 1,
   "id": "a7002c8d-5140-4bcb-8040-a800b47269a7",
   "metadata": {},
   "outputs": [
    {
     "name": "stdout",
     "output_type": "stream",
     "text": [
      "['h', 'e', 'l', 'l', 'o']\n"
     ]
    }
   ],
   "source": [
    "# restart the kernel\n",
    "# import the whole module\n",
    "import utils \n",
    "\n",
    "# use a function\n",
    "utils.print_characters_in_string(\"hello\")"
   ]
  },
  {
   "cell_type": "code",
   "execution_count": 2,
   "id": "7d6867b9-dfa0-43de-830e-2ba915dbba51",
   "metadata": {},
   "outputs": [
    {
     "name": "stdout",
     "output_type": "stream",
     "text": [
      "['h', 'e', 'l', 'l', 'o']\n"
     ]
    }
   ],
   "source": [
    "# restart the kernel\n",
    "# import a specific function\n",
    "from utils import print_characters_in_string\n",
    "\n",
    "print_characters_in_string(\"hello\")"
   ]
  },
  {
   "cell_type": "code",
   "execution_count": 3,
   "id": "b977d716-5f22-4060-a95d-0e9c138eb3d1",
   "metadata": {},
   "outputs": [
    {
     "data": {
      "text/plain": [
       "7.0710678118654755"
      ]
     },
     "execution_count": 3,
     "metadata": {},
     "output_type": "execute_result"
    }
   ],
   "source": [
    "# restart the kernel\n",
    "# import allindividual functions\n",
    "from utils import *\n",
    "\n",
    "distance_xy((1, 2), (6, 7))"
   ]
  },
  {
   "cell_type": "code",
   "execution_count": 4,
   "id": "19d91ede-967f-4ef2-86ba-b6770538c9b4",
   "metadata": {},
   "outputs": [
    {
     "name": "stdout",
     "output_type": "stream",
     "text": [
      "['h', 'e', 'l', 'l', 'o']\n"
     ]
    }
   ],
   "source": [
    "print_characters_in_string(\"hello\")"
   ]
  },
  {
   "cell_type": "markdown",
   "id": "fee025a2-e170-4be5-ac33-6dfecd4e0512",
   "metadata": {},
   "source": [
    "## OS methods\n",
    "\n",
    "Just like in the linux console, we can use command line-like instructions in Python to interact with our computer.\n",
    "\n",
    "These instructions are contained in the native module `os`.\n",
    "\n",
    "We can use its functions and methods by importing it."
   ]
  },
  {
   "cell_type": "code",
   "execution_count": 5,
   "id": "7be5a039-f834-4bc2-a036-6e4fb180818a",
   "metadata": {},
   "outputs": [],
   "source": [
    "import os"
   ]
  },
  {
   "cell_type": "markdown",
   "id": "15e9ef5b-70b5-40e4-9644-58c0f43f9eec",
   "metadata": {},
   "source": [
    "Once we have imported the module, we can interact with the directory tree of our computer from within Python, without the need of using the File Explorer:\n",
    "\n",
    "* `os.getcwd()` will print the current working directory. \n",
    "    * Equivalent to `pwd` in linux\n",
    "* `os.chdir(path)` allows us to change our current working directory to `path`\n",
    "    * Equivalent to `cd path` in linux\n",
    "* `os.listdir()` prints all the elements contained in our current working directory\n",
    "    * Equivalent to `ls` in linux\n",
    "* `os.mkdir(path/name)` is the way we have to create a new directory in `path` with name `name`\n",
    "    * Equivalent to `mkdir` in linux\n",
    "* `os.rmdir(path/name)` allows us to remove the `name` directory in `path`\n",
    "    * Equivalent to `rm` in linux"
   ]
  },
  {
   "cell_type": "code",
   "execution_count": 38,
   "id": "61356c04-8f12-4dde-b42f-2eddab0c3bbd",
   "metadata": {},
   "outputs": [
    {
     "data": {
      "text/plain": [
       "'/Users/dgarhdez/Desktop/IE/Python/2021/recap'"
      ]
     },
     "execution_count": 38,
     "metadata": {},
     "output_type": "execute_result"
    }
   ],
   "source": [
    "# print the current working directory\n",
    "os.getcwd()"
   ]
  },
  {
   "cell_type": "code",
   "execution_count": 39,
   "id": "d87d6940-07e6-4408-94da-ad852a5a9fd0",
   "metadata": {},
   "outputs": [
    {
     "name": "stdout",
     "output_type": "stream",
     "text": [
      "/Users/dgarhdez/Desktop/IE\n"
     ]
    }
   ],
   "source": [
    "# change directory \n",
    "os.chdir(\"/Users/dgarhdez/Desktop/IE/\")\n",
    "\n",
    "# print new working directory\n",
    "print(os.getcwd())"
   ]
  },
  {
   "cell_type": "code",
   "execution_count": 40,
   "id": "9fab99c0-d065-45a9-a56a-149eeaf947ec",
   "metadata": {},
   "outputs": [
    {
     "data": {
      "text/plain": [
       "['.DS_Store',\n",
       " 'data-analysis-with-pandas',\n",
       " 'Python',\n",
       " '.virtual_documents',\n",
       " 'ML2']"
      ]
     },
     "execution_count": 40,
     "metadata": {},
     "output_type": "execute_result"
    }
   ],
   "source": [
    "# list all the elements in the current working directory\n",
    "os.listdir()"
   ]
  },
  {
   "cell_type": "code",
   "execution_count": 41,
   "id": "d15274af-53a2-40d5-9416-8feded6e76a7",
   "metadata": {},
   "outputs": [
    {
     "name": "stdout",
     "output_type": "stream",
     "text": [
      "/Users/dgarhdez/Desktop/IE/Python/python1-recap\n"
     ]
    }
   ],
   "source": [
    "# change back to the original directory\n",
    "os.chdir(\"Python/python1-recap\")\n",
    "print(os.getcwd())"
   ]
  },
  {
   "cell_type": "code",
   "execution_count": 42,
   "id": "ed199d17-235f-4f36-a27b-9e888ba8cd05",
   "metadata": {},
   "outputs": [
    {
     "data": {
      "text/plain": [
       "['recap', '.DS_Store', 'LICENSE', 'README.md', '.git']"
      ]
     },
     "execution_count": 42,
     "metadata": {},
     "output_type": "execute_result"
    }
   ],
   "source": [
    "os.listdir()"
   ]
  },
  {
   "cell_type": "code",
   "execution_count": 43,
   "id": "9c90b36f-1a14-411c-b079-90198c65e9fe",
   "metadata": {},
   "outputs": [
    {
     "data": {
      "text/plain": [
       "'/Users/dgarhdez/Desktop/IE/Python/python1-recap'"
      ]
     },
     "execution_count": 43,
     "metadata": {},
     "output_type": "execute_result"
    }
   ],
   "source": [
    "os.getcwd()"
   ]
  },
  {
   "cell_type": "code",
   "execution_count": 44,
   "id": "3b2459ea-ea9e-4efd-b100-eece1c563c10",
   "metadata": {},
   "outputs": [
    {
     "data": {
      "text/plain": [
       "['recap', '.DS_Store', 'LICENSE', 'README.md', '.git', 'test_directory']"
      ]
     },
     "execution_count": 44,
     "metadata": {},
     "output_type": "execute_result"
    }
   ],
   "source": [
    "# create new directory in my current working directory\n",
    "os.mkdir(\"test_directory\")\n",
    "\n",
    "# list elements to see the new directory\n",
    "os.listdir()"
   ]
  },
  {
   "cell_type": "code",
   "execution_count": 45,
   "id": "7286c2dc-1ba5-4328-bde3-bf5ae4085f58",
   "metadata": {},
   "outputs": [
    {
     "data": {
      "text/plain": [
       "['recap', '.DS_Store', 'LICENSE', 'README.md', '.git']"
      ]
     },
     "execution_count": 45,
     "metadata": {},
     "output_type": "execute_result"
    }
   ],
   "source": [
    "# remove `test_directory`\n",
    "os.rmdir(\"test_directory\")\n",
    "\n",
    "# list elements to see the new directory removed\n",
    "os.listdir()"
   ]
  },
  {
   "cell_type": "markdown",
   "id": "39bd4c76-66b9-41fa-a714-7a82b0fb7718",
   "metadata": {},
   "source": [
    "### Get parent directory\n",
    "Given a path, we can find the parent directory in Python with the following set of instructions:\n",
    "\n",
    "```Python\n",
    "current_working_directory = os.getcwd()\n",
    "\n",
    "parent_directory = os.path.dirname(current_working_directory)\n",
    "```"
   ]
  },
  {
   "cell_type": "code",
   "execution_count": 14,
   "id": "e8a47cc1-f7a2-48b5-93b7-a7f0c46131a3",
   "metadata": {},
   "outputs": [
    {
     "name": "stdout",
     "output_type": "stream",
     "text": [
      "My current directory is: /Users/dgarhdez/Desktop/IE/Python/2021/recap\n",
      "The parent directory is : /Users/dgarhdez/Desktop/IE/Python/2021\n"
     ]
    }
   ],
   "source": [
    "cwd = os.getcwd()\n",
    "\n",
    "parent_dir = os.path.dirname(cwd)\n",
    "\n",
    "print(f\"My current directory is: {cwd}\")\n",
    "print(f\"The parent directory is : {parent_dir}\")"
   ]
  },
  {
   "cell_type": "markdown",
   "id": "1c05ab9b-3f5c-4af2-a71f-d501250bca83",
   "metadata": {},
   "source": [
    "## File handling with Python\n",
    "\n",
    "We can read different files with Python using `open` and once we're done using the info in the file, we use `close` to remove the resources allocated on the file.\n",
    "\n",
    "```Python\n",
    "# open the file\n",
    "f_obj = open(path_to_new_file, \"w\")  # create the file to write something in it\n",
    "\n",
    "# write the stuff in the file\n",
    "f_obj.write(stuff_to_write)  # write stuff in our file\n",
    "\n",
    "# close the file and remove the resources allocated onto it\n",
    "f_obj.close()\n",
    "```\n",
    "The second argument we passed to `open()` is the type of action we want to perform in our file:\n",
    "* `'r'` open for reading (default). The file must exist, if not it will return an error.\n",
    "* `'w'` open for writing, truncating the file first. If the file doesn't exist, it creates it. \n",
    "* `'x'` open for exclusive creation, failing if the file already exists\n",
    "* `'a'` open for writing, appending to the end of file if it exists\n",
    "* `'+'` open for updating (reading and writing)"
   ]
  },
  {
   "cell_type": "code",
   "execution_count": 16,
   "id": "be03ab79-7f1a-405e-9d6e-dbab0a15eac9",
   "metadata": {},
   "outputs": [],
   "source": [
    "# create TXT file \n",
    "new_obj = open(\"new_object.txt\", \"w\")\n",
    "\n",
    "# write text into the file\n",
    "new_obj.write(\"Made up text.\\nWow!\\n\\nIn different lines even!\")\n",
    "\n",
    "# close the file once finished\n",
    "new_obj.close()"
   ]
  },
  {
   "cell_type": "code",
   "execution_count": 17,
   "id": "b297d2f2-91d6-4abd-9e6d-03ddc037e55b",
   "metadata": {},
   "outputs": [],
   "source": [
    "# open the file to read its content\n",
    "obj = open(\"new_object.txt\", \"r\")\n",
    "\n",
    "# read the content with `read()` and save the content into the `content` variable\n",
    "content = obj.read()\n",
    "\n",
    "# close the file\n",
    "obj.close()"
   ]
  },
  {
   "cell_type": "code",
   "execution_count": 18,
   "id": "a184837e-0f5e-492d-9ec7-ad4da8634708",
   "metadata": {},
   "outputs": [
    {
     "name": "stdout",
     "output_type": "stream",
     "text": [
      "Made up text.\n",
      "Wow!\n",
      "\n",
      "In different lines even!\n"
     ]
    }
   ],
   "source": [
    "print(content)"
   ]
  },
  {
   "cell_type": "markdown",
   "id": "418253d6-70e9-4a98-876c-ad665fc7bc5c",
   "metadata": {
    "tags": []
   },
   "source": [
    "### Context manager\n",
    "\n",
    "In general, it's always better to use the context manager to handle text files, to encapsulate our actions and always closing the file after finishing working with it.\n",
    "\n",
    "The context manager in Python automatically allocates and removes resources from a file and the actions to perform on it."
   ]
  },
  {
   "cell_type": "code",
   "execution_count": 19,
   "id": "0ce2d8d1-2960-4742-85e9-9e4f252c5aa2",
   "metadata": {},
   "outputs": [],
   "source": [
    "# with the context manager we encapsulate everything under the `with` clause:\n",
    "with open(\"new_object_2.txt\", \"w\") as f:\n",
    "    f.write(\"More irrelevant content into this new file.\")"
   ]
  },
  {
   "cell_type": "code",
   "execution_count": 20,
   "id": "0d461d99-fb7f-4ca8-ab2e-c490ee50ae0e",
   "metadata": {},
   "outputs": [
    {
     "name": "stdout",
     "output_type": "stream",
     "text": [
      "More irrelevant content into this new file.\n"
     ]
    }
   ],
   "source": [
    "# new let's read the content of `new_object_2.txt`:\n",
    "with open(\"new_object_2.txt\", \"r\") as f:\n",
    "    content = f.read()\n",
    "    \n",
    "print(content)"
   ]
  },
  {
   "cell_type": "markdown",
   "id": "4e74b86c-e531-4fc7-8383-e40de34e4a5e",
   "metadata": {},
   "source": [
    "### Read the different lines of a file\n",
    "\n",
    "We can use `split(\"\\n\")` with the content we read from a text file, or we can use `splitlines()`."
   ]
  },
  {
   "cell_type": "code",
   "execution_count": 21,
   "id": "60884cf2-c9ce-4f6b-8d76-f265fae89b4d",
   "metadata": {},
   "outputs": [],
   "source": [
    "with open(\"new_object.txt\", \"r\") as f:\n",
    "    content = f.read()\n",
    "    \n",
    "    # using `split()` with the new line character (\"\\n\")\n",
    "    content_split = content.split(\"\\n\")\n",
    "    \n",
    "    # using `splitlines()`\n",
    "    content_splitlines = content.splitlines()"
   ]
  },
  {
   "cell_type": "code",
   "execution_count": 22,
   "id": "069d75a5-0bf9-4afe-a480-28a13bcb18e0",
   "metadata": {},
   "outputs": [
    {
     "name": "stdout",
     "output_type": "stream",
     "text": [
      "['Made up text.', 'Wow!', '', 'In different lines even!']\n"
     ]
    }
   ],
   "source": [
    "print(content_split)"
   ]
  },
  {
   "cell_type": "code",
   "execution_count": 23,
   "id": "c53a5a08-e693-49fe-8540-68e5af7d8e18",
   "metadata": {},
   "outputs": [
    {
     "name": "stdout",
     "output_type": "stream",
     "text": [
      "['Made up text.', 'Wow!', '', 'In different lines even!']\n"
     ]
    }
   ],
   "source": [
    "print(content_splitlines)"
   ]
  },
  {
   "cell_type": "markdown",
   "id": "7c9406b0-d03b-4773-83fe-061eacd8fecd",
   "metadata": {},
   "source": [
    "### JSON files\n",
    "\n",
    "A very common format for files used to exchange information between systems is JSON.\n",
    "\n",
    "JSON stands for JavaScript Object Notation, and it allows us to store information that is both easy to understand by humans and by computers.\n",
    "\n",
    "There is a module in Python called `json` that contains the basic functions to handle JSON files\n",
    "* `json.dump(info)` will store `info` in a JSON file\n",
    "* `json.dumps(info)` will convert `info` in a JSON-formatted string\n",
    "* `json.load(info)` will read `info` from a JSON file and convert it into a Python object\n",
    "* `json.loads(info)` will read `info` from a JSON-formatted string into a Python object"
   ]
  },
  {
   "cell_type": "code",
   "execution_count": 24,
   "id": "ae1a1ebd-1cb7-4265-8545-bfabd26b9bc3",
   "metadata": {},
   "outputs": [],
   "source": [
    "# importing the library\n",
    "import json"
   ]
  },
  {
   "cell_type": "code",
   "execution_count": 25,
   "id": "47a43303-a394-493c-a14a-c1bc90a18cb2",
   "metadata": {},
   "outputs": [],
   "source": [
    "# storing info in a JSON file: json.dump()\n",
    "\n",
    "dani_info = {\"name\": \"Daniel\", \"last_names\": [\"Garcia\", \"Hernandez\"]}\n",
    "\n",
    "with open(\"dani_info.json\", \"w\") as f:\n",
    "    json.dump(dani_info, f)"
   ]
  },
  {
   "cell_type": "code",
   "execution_count": 26,
   "id": "99307074-a965-49d9-b2a5-e63bc528978e",
   "metadata": {},
   "outputs": [
    {
     "data": {
      "text/plain": [
       "{'name': 'Daniel', 'last_names': ['Garcia', 'Hernandez']}"
      ]
     },
     "execution_count": 26,
     "metadata": {},
     "output_type": "execute_result"
    }
   ],
   "source": [
    "# reading info from a JSON file: json.load()\n",
    "with open(\"dani_info.json\") as f:\n",
    "    dani_info_from_file = json.load(f)\n",
    "    \n",
    "dani_info_from_file"
   ]
  },
  {
   "cell_type": "code",
   "execution_count": 27,
   "id": "2e5174f6-6a88-4915-b180-4d83108258c7",
   "metadata": {},
   "outputs": [
    {
     "data": {
      "text/plain": [
       "'{\"name\": \"Daniel\", \"last_names\": [\"Garcia\", \"Hernandez\"]}'"
      ]
     },
     "execution_count": 27,
     "metadata": {},
     "output_type": "execute_result"
    }
   ],
   "source": [
    "# converting information into a JSON-formatted string: json.dumps()\n",
    "dani_info = {\"name\": \"Daniel\", \"last_names\": [\"Garcia\", \"Hernandez\"]}\n",
    "\n",
    "JSON_string = json.dumps(dani_info)\n",
    "\n",
    "JSON_string"
   ]
  },
  {
   "cell_type": "code",
   "execution_count": 28,
   "id": "5b4f8d19-5d05-40aa-bd14-2fc40037077e",
   "metadata": {},
   "outputs": [
    {
     "data": {
      "text/plain": [
       "str"
      ]
     },
     "execution_count": 28,
     "metadata": {},
     "output_type": "execute_result"
    }
   ],
   "source": [
    "type(JSON_string)"
   ]
  },
  {
   "cell_type": "code",
   "execution_count": 29,
   "id": "508a92d9-fbdd-463b-8725-b9081a29c552",
   "metadata": {},
   "outputs": [
    {
     "data": {
      "text/plain": [
       "{'name': 'Daniel', 'last_names': ['Garcia', 'Hernandez']}"
      ]
     },
     "execution_count": 29,
     "metadata": {},
     "output_type": "execute_result"
    }
   ],
   "source": [
    "# converting infor stored in a JSON-formatted string into a Python object: json.loads()\n",
    "json.loads(JSON_string)"
   ]
  },
  {
   "cell_type": "markdown",
   "id": "19b6f32b-ea39-421c-8e01-786b939d5559",
   "metadata": {},
   "source": [
    "## Error handling\n",
    "\n",
    "Catching errors and exceptions early in the code allows us to avoid that those erros alter the flow of the code in production.\n",
    "\n",
    "We can do that in Python with `try-except-else-finally`:\n",
    "\n",
    "```Python\n",
    "try:\n",
    "    \"piece of code in which we want to control errors\"\n",
    "except:\n",
    "    \"do something if errors happen\"\n",
    "else:\n",
    "    \"do something else if no errors happen\"\n",
    "finally:\n",
    "    \"do this in any case: error or not\"\n",
    "```"
   ]
  },
  {
   "cell_type": "code",
   "execution_count": 30,
   "id": "2f4329fb-3b51-43c9-8f3a-3854dd84bf92",
   "metadata": {},
   "outputs": [
    {
     "data": {
      "text/plain": [
       "False"
      ]
     },
     "execution_count": 30,
     "metadata": {},
     "output_type": "execute_result"
    }
   ],
   "source": [
    "\"invented_file.txt\" in os.listdir()"
   ]
  },
  {
   "cell_type": "code",
   "execution_count": 31,
   "id": "0d37ebae-53fb-4e7d-a7a3-7637a3122cb1",
   "metadata": {},
   "outputs": [
    {
     "ename": "FileNotFoundError",
     "evalue": "[Errno 2] No such file or directory: 'invented_file.txt'",
     "output_type": "error",
     "traceback": [
      "\u001b[0;31m---------------------------------------------------------------------------\u001b[0m",
      "\u001b[0;31mFileNotFoundError\u001b[0m                         Traceback (most recent call last)",
      "\u001b[0;32m/var/folders/kn/gt9ggj051wdfjnfqv8xjl8qh0000gn/T/ipykernel_45438/3431690078.py\u001b[0m in \u001b[0;36m<module>\u001b[0;34m\u001b[0m\n\u001b[1;32m      1\u001b[0m \u001b[0;31m# let's try to read the content of a file that doesnt exist\u001b[0m\u001b[0;34m\u001b[0m\u001b[0;34m\u001b[0m\u001b[0;34m\u001b[0m\u001b[0m\n\u001b[0;32m----> 2\u001b[0;31m \u001b[0;32mwith\u001b[0m \u001b[0mopen\u001b[0m\u001b[0;34m(\u001b[0m\u001b[0;34m\"invented_file.txt\"\u001b[0m\u001b[0;34m)\u001b[0m \u001b[0;32mas\u001b[0m \u001b[0mf\u001b[0m\u001b[0;34m:\u001b[0m\u001b[0;34m\u001b[0m\u001b[0;34m\u001b[0m\u001b[0m\n\u001b[0m\u001b[1;32m      3\u001b[0m     \u001b[0mcontent\u001b[0m \u001b[0;34m=\u001b[0m \u001b[0mf\u001b[0m\u001b[0;34m.\u001b[0m\u001b[0mread\u001b[0m\u001b[0;34m(\u001b[0m\u001b[0;34m)\u001b[0m\u001b[0;34m\u001b[0m\u001b[0;34m\u001b[0m\u001b[0m\n",
      "\u001b[0;31mFileNotFoundError\u001b[0m: [Errno 2] No such file or directory: 'invented_file.txt'"
     ]
    }
   ],
   "source": [
    "# let's try to read the content of a file that doesnt exist\n",
    "with open(\"invented_file.txt\") as f:\n",
    "    content = f.read()"
   ]
  },
  {
   "cell_type": "code",
   "execution_count": 32,
   "id": "f0d330c3-0c1e-414c-8741-62d6daf07aee",
   "metadata": {},
   "outputs": [],
   "source": [
    "# catching the error:\n",
    "\n",
    "# function that reads the content of a file and returns it as a string\n",
    "\n",
    "def read_file(filename):\n",
    "    try: \n",
    "        with open(filename) as f:\n",
    "            content = f.read() \n",
    "    except FileNotFoundError as e:\n",
    "        print(f\"ERROR FOUND: {e}\")\n",
    "        print(f\"The file you're trying to read doesn't exist.\")\n",
    "    else:\n",
    "        return content\n",
    "    finally:\n",
    "        print(\"Operation finished\")"
   ]
  },
  {
   "cell_type": "code",
   "execution_count": 33,
   "id": "315d6262-b763-4e5f-8b94-fecd75d296b4",
   "metadata": {},
   "outputs": [
    {
     "name": "stdout",
     "output_type": "stream",
     "text": [
      "ERROR FOUND: [Errno 2] No such file or directory: 'asdfqerfgwer.txt'\n",
      "The file you're trying to read doesn't exist.\n",
      "Operation finished\n"
     ]
    }
   ],
   "source": [
    "content = read_file(\"asdfqerfgwer.txt\")"
   ]
  },
  {
   "cell_type": "markdown",
   "id": "0d6b79ab-21ce-458e-b088-b1b4fd52873d",
   "metadata": {},
   "source": [
    "## Practice:"
   ]
  },
  {
   "cell_type": "markdown",
   "id": "be472adf-fea0-4383-8ab4-5b8731a4af51",
   "metadata": {},
   "source": [
    "### Exercise 1:\n",
    "\n",
    "Using `os` create a new folder in your working directory called `practice_recap_4`"
   ]
  },
  {
   "cell_type": "code",
   "execution_count": 46,
   "id": "f0fe69ef-7947-495c-969b-8bab05486b3d",
   "metadata": {},
   "outputs": [
    {
     "data": {
      "text/plain": [
       "['recap', 'practice_recap_4', '.DS_Store', 'LICENSE', 'README.md', '.git']"
      ]
     },
     "execution_count": 46,
     "metadata": {},
     "output_type": "execute_result"
    }
   ],
   "source": [
    "os.mkdir(\"practice_recap_4\")\n",
    "\n",
    "os.listdir()"
   ]
  },
  {
   "cell_type": "code",
   "execution_count": 47,
   "id": "23bb4047-f060-45e9-812d-dd96a2c3cd22",
   "metadata": {},
   "outputs": [
    {
     "data": {
      "text/plain": [
       "['recap', 'practice_recap_4', '.DS_Store', 'LICENSE', 'README.md', '.git']"
      ]
     },
     "execution_count": 47,
     "metadata": {},
     "output_type": "execute_result"
    }
   ],
   "source": [
    "os.listdir()"
   ]
  },
  {
   "cell_type": "markdown",
   "id": "139eac83-7c62-4ce9-917f-36d5f534e875",
   "metadata": {
    "tags": []
   },
   "source": [
    "### Exercise 2:\n",
    "\n",
    "Change your current working directory to the newly created directory"
   ]
  },
  {
   "cell_type": "code",
   "execution_count": 48,
   "id": "5ea0a57f-b30d-4c27-affd-1923e1e43859",
   "metadata": {},
   "outputs": [],
   "source": [
    "os.chdir(\"practice_recap_4\")"
   ]
  },
  {
   "cell_type": "code",
   "execution_count": 49,
   "id": "0750798d-4b59-4f93-bfa8-f8810c38395e",
   "metadata": {},
   "outputs": [
    {
     "data": {
      "text/plain": [
       "'/Users/dgarhdez/Desktop/IE/Python/python1-recap/practice_recap_4'"
      ]
     },
     "execution_count": 49,
     "metadata": {},
     "output_type": "execute_result"
    }
   ],
   "source": [
    "os.getcwd()"
   ]
  },
  {
   "cell_type": "markdown",
   "id": "c5ee60b2-bc60-4114-949f-5370467c0258",
   "metadata": {
    "tags": []
   },
   "source": [
    "### Exercise 3:\n",
    "\n",
    "Take the following dictionary:\n",
    "\n",
    "```Python\n",
    "dict_files = {\n",
    "    \"file_1.txt\": \"Hello there!\", \n",
    "    \"file_2.txt\": \"More stuff to include\", \n",
    "    \"file_3.txt\": \"Finally finishing making up files and text!\"\n",
    "}   \n",
    "```\n",
    "\n",
    "And create the files specified in the keys and write in them the content in the associated value"
   ]
  },
  {
   "cell_type": "code",
   "execution_count": 50,
   "id": "641445c8-551b-4b11-9822-8eebf0a45167",
   "metadata": {},
   "outputs": [],
   "source": [
    "dict_files = {\n",
    "    \"file_1.txt\": \"Hello there!\", \n",
    "    \"file_2.txt\": \"More stuff to include\", \n",
    "    \"file_3.txt\": \"Finally finishing making up files and text!\"\n",
    "}  \n",
    "\n",
    "for filename, content in dict_files.items():\n",
    "    with open(filename, \"w\") as f:\n",
    "        f.write(content)"
   ]
  },
  {
   "cell_type": "markdown",
   "id": "6e58549e-cd09-44c4-aec2-db55dfeacb83",
   "metadata": {},
   "source": [
    "### Exercise 4:\n",
    "Append to each of the created files the following text as a new line\n",
    "* \"Common text in each file\"\n",
    "\n",
    "Control the possible errors!"
   ]
  },
  {
   "cell_type": "code",
   "execution_count": 51,
   "id": "d47d647f-59ac-41e9-ba90-76540a383717",
   "metadata": {},
   "outputs": [],
   "source": [
    "for filename, content in dict_files.items():\n",
    "    with open(filename, \"a\") as f:\n",
    "        f.write(\"Common text in each file\")"
   ]
  },
  {
   "cell_type": "markdown",
   "id": "442a786c-fe40-4cad-a21e-ba85dd73af04",
   "metadata": {},
   "source": [
    "### Exercise 5:\n",
    "    \n",
    "Change the directory to the parent directory of our current working directory"
   ]
  },
  {
   "cell_type": "code",
   "execution_count": 53,
   "id": "6f7b0570-71cd-4f1f-83ac-0747cb32c0ac",
   "metadata": {},
   "outputs": [
    {
     "data": {
      "text/plain": [
       "'/Users/dgarhdez/Desktop/IE/Python'"
      ]
     },
     "execution_count": 53,
     "metadata": {},
     "output_type": "execute_result"
    }
   ],
   "source": [
    "parent = os.path.dirname(os.getcwd())\n",
    "\n",
    "os.chdir(parent)\n",
    "\n",
    "os.getcwd()"
   ]
  }
 ],
 "metadata": {
  "interpreter": {
   "hash": "a9f295c814a5ce7ff0b0a20f2b13117bfaf008fc7980e281f2c2bfa8e9ec0fbf"
  },
  "kernelspec": {
   "display_name": "Python [conda env:ml2] *",
   "language": "python",
   "name": "python3"
  },
  "language_info": {
   "codemirror_mode": {
    "name": "ipython",
    "version": 3
   },
   "file_extension": ".py",
   "mimetype": "text/x-python",
   "name": "python",
   "nbconvert_exporter": "python",
   "pygments_lexer": "ipython3",
   "version": "3.8.12"
  }
 },
 "nbformat": 4,
 "nbformat_minor": 5
}
