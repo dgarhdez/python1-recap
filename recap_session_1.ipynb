{
 "cells": [
  {
   "cell_type": "markdown",
   "id": "ca8c16f2-b085-4052-b6ba-e430b9cf33cf",
   "metadata": {},
   "source": [
    "# Recap Session 1: Variables and types"
   ]
  },
  {
   "cell_type": "markdown",
   "id": "5ef602cf-3eeb-40e1-8fe6-6f9e58cf2e86",
   "metadata": {},
   "source": [
    "## Variables\n",
    "\n",
    "Variables are the way we have to store information in the memory of our computers. In Python, the variables *point* towards the memory position in which we have allocated the information, and when reading it, Python interprets the data in different ways, according to the `type` of that piece of information.\n",
    "\n",
    "Variables are assigned their value with `=`.\n",
    "\n",
    "Variables have some rules we have to follow when defining them:\n",
    "* Variables can't start with a number\n",
    "* Variables can't contain special characters like `@`\n",
    "* We can't use Python reserved words like `if` of `for`\n",
    "\n",
    "The different types of variables we're going to be working with are:\n",
    "* Numeric: `int` and `float`\n",
    "* Strings: `str`\n",
    "* Boolean: `bool`\n",
    "\n",
    "Also, we can have in Python variables that represent containers of information. These are the types of the most common ones:\n",
    "* List: `list`\n",
    "* Tuple: `tuple`\n",
    "* Set: `set`\n",
    "* Dictionary: `dict`"
   ]
  },
  {
   "cell_type": "markdown",
   "id": "65481985-5e00-4d30-a36a-a203611aea84",
   "metadata": {},
   "source": [
    "### Saving information in a variable\n",
    "\n",
    "In Python, when we want to save some information in a variable, we first type the name we want our variable to have, and then using `=` we assign the value we want for that variable:\n",
    "\n",
    "```Python\n",
    "variable_name = value_to_store\n",
    "```"
   ]
  },
  {
   "cell_type": "code",
   "execution_count": 1,
   "id": "6c05742e-8eea-4526-bb16-b78ef001fc52",
   "metadata": {},
   "outputs": [],
   "source": [
    "# saving a text sequence as string in a variable named `text_to_save`\n",
    "\n",
    "text_to_save = \"Text that will be stored in memory, assigned to `text_to_save`\""
   ]
  },
  {
   "cell_type": "code",
   "execution_count": 2,
   "id": "e3eb6dfd-86d0-4c1c-a30e-005de7c2ac20",
   "metadata": {},
   "outputs": [
    {
     "data": {
      "text/plain": [
       "'Text that will be stored in memory, assigned to `text_to_save`'"
      ]
     },
     "execution_count": 2,
     "metadata": {},
     "output_type": "execute_result"
    }
   ],
   "source": [
    "text_to_save"
   ]
  },
  {
   "cell_type": "markdown",
   "id": "35240f62-ee81-408f-ada5-9670fbc70af5",
   "metadata": {},
   "source": [
    "### Assessing the type of information our variable stores.\n",
    "\n",
    "In Python we use `type(variable)` to check the type of object stored in `variable`"
   ]
  },
  {
   "cell_type": "code",
   "execution_count": 3,
   "id": "cf3f23e8-0728-4755-9c3d-5ab9d7e5fcde",
   "metadata": {},
   "outputs": [
    {
     "data": {
      "text/plain": [
       "str"
      ]
     },
     "execution_count": 3,
     "metadata": {},
     "output_type": "execute_result"
    }
   ],
   "source": [
    "word = \"hola\"\n",
    "\n",
    "type(word)  # string: str"
   ]
  },
  {
   "cell_type": "markdown",
   "id": "75c55819-5d0e-43d5-9c90-e6e723c3eaa1",
   "metadata": {},
   "source": [
    "## Numeric (`int` and `float`)\n",
    "\n",
    "The available numeric types we have in Python are the following two:\n",
    "* Integers: represented with the type `int`\n",
    "* Float: numbers with a decimal part, represented by `float`. Integer and decimal part separated by decimal point `.` "
   ]
  },
  {
   "cell_type": "code",
   "execution_count": 4,
   "id": "0ec450ef-2596-493e-af71-9746f2e6b752",
   "metadata": {},
   "outputs": [],
   "source": [
    "# int\n",
    "\n",
    "int_num = 5"
   ]
  },
  {
   "cell_type": "code",
   "execution_count": 5,
   "id": "ba498bde-a318-4bc2-9614-5704516370a4",
   "metadata": {},
   "outputs": [
    {
     "data": {
      "text/plain": [
       "5"
      ]
     },
     "execution_count": 5,
     "metadata": {},
     "output_type": "execute_result"
    }
   ],
   "source": [
    "int_num"
   ]
  },
  {
   "cell_type": "code",
   "execution_count": 6,
   "id": "9fea1fa1-29ff-4165-809a-abdd0dc4f756",
   "metadata": {},
   "outputs": [],
   "source": [
    "# float\n",
    "\n",
    "float_num = 5.001"
   ]
  },
  {
   "cell_type": "code",
   "execution_count": 7,
   "id": "c4edcfed-79ad-442c-abd2-05e3b1aea905",
   "metadata": {},
   "outputs": [
    {
     "data": {
      "text/plain": [
       "5.001"
      ]
     },
     "execution_count": 7,
     "metadata": {},
     "output_type": "execute_result"
    }
   ],
   "source": [
    "float_num"
   ]
  },
  {
   "cell_type": "markdown",
   "id": "faaaf510-905b-447f-a613-327285d1136c",
   "metadata": {},
   "source": [
    "The operators with which we can operate numeric types are the following: \n",
    "\n",
    "We can operate `int` and `float` between them, independently of their type. \n",
    "* Addition: `+`\n",
    "* Substraction: `-`\n",
    "* Multiplication: `*`\n",
    "* Division: `/`\n",
    "* Floored division: `//`. Represents the integer part of the quotient.\n",
    "* Modulo: `%`. Represents the remainder of the division.\n",
    "* Power: `**`"
   ]
  },
  {
   "cell_type": "code",
   "execution_count": 8,
   "id": "5a3360e2-a9cd-438a-8df6-300f4b40ae02",
   "metadata": {},
   "outputs": [
    {
     "data": {
      "text/plain": [
       "18.5"
      ]
     },
     "execution_count": 8,
     "metadata": {},
     "output_type": "execute_result"
    }
   ],
   "source": [
    "# addition\n",
    "7 + 11.5"
   ]
  },
  {
   "cell_type": "code",
   "execution_count": 9,
   "id": "d629718c-2f8c-4cc9-826f-d923c4d7df44",
   "metadata": {},
   "outputs": [
    {
     "data": {
      "text/plain": [
       "-3"
      ]
     },
     "execution_count": 9,
     "metadata": {},
     "output_type": "execute_result"
    }
   ],
   "source": [
    "# substraction\n",
    "7 - 10"
   ]
  },
  {
   "cell_type": "code",
   "execution_count": 10,
   "id": "a7cf2efa-a65a-4744-8e56-92b15f20e32e",
   "metadata": {},
   "outputs": [
    {
     "data": {
      "text/plain": [
       "40"
      ]
     },
     "execution_count": 10,
     "metadata": {},
     "output_type": "execute_result"
    }
   ],
   "source": [
    "# multiplication\n",
    "5 * 8"
   ]
  },
  {
   "cell_type": "code",
   "execution_count": 11,
   "id": "6e02d347-b4b9-4ca7-9273-7f2937a03b04",
   "metadata": {},
   "outputs": [
    {
     "data": {
      "text/plain": [
       "1.5"
      ]
     },
     "execution_count": 11,
     "metadata": {},
     "output_type": "execute_result"
    }
   ],
   "source": [
    "# division\n",
    "6 / 4.0"
   ]
  },
  {
   "cell_type": "code",
   "execution_count": 12,
   "id": "bb474922-f5de-4867-8b7d-665dd5f0fc7e",
   "metadata": {},
   "outputs": [
    {
     "data": {
      "text/plain": [
       "2"
      ]
     },
     "execution_count": 12,
     "metadata": {},
     "output_type": "execute_result"
    }
   ],
   "source": [
    "# floored division\n",
    "15 // 7"
   ]
  },
  {
   "cell_type": "code",
   "execution_count": 16,
   "id": "2a69b808-71fc-4e7f-a652-aa4e3ed0b2ec",
   "metadata": {},
   "outputs": [
    {
     "data": {
      "text/plain": [
       "0.3333333333333335"
      ]
     },
     "execution_count": 16,
     "metadata": {},
     "output_type": "execute_result"
    }
   ],
   "source": [
    "# to get only the decimals of the quotients\n",
    "\n",
    "7 / 3 - 7 // 3"
   ]
  },
  {
   "cell_type": "code",
   "execution_count": 14,
   "id": "a199b833-972a-4ccc-bb5e-7d7ae68eb9a2",
   "metadata": {},
   "outputs": [
    {
     "data": {
      "text/plain": [
       "2"
      ]
     },
     "execution_count": 14,
     "metadata": {},
     "output_type": "execute_result"
    }
   ],
   "source": [
    "# modulo\n",
    "14 % 4"
   ]
  },
  {
   "cell_type": "code",
   "execution_count": 15,
   "id": "3df2bc0f-cc62-4e26-a314-06e359e56e0e",
   "metadata": {},
   "outputs": [
    {
     "data": {
      "text/plain": [
       "125"
      ]
     },
     "execution_count": 15,
     "metadata": {},
     "output_type": "execute_result"
    }
   ],
   "source": [
    "# power\n",
    "5 ** 3"
   ]
  },
  {
   "cell_type": "markdown",
   "id": "ff2287cf-aca7-45dc-909d-900762dea1c6",
   "metadata": {},
   "source": [
    "We have also some built-in functions that allow us to operate further with numbers:\n",
    "\n",
    "* Convert to integer: `int()`\n",
    "* Convert to float: `float()`. Will add 1 decimal zero.\n",
    "* Return absolute value: `abs()`"
   ]
  },
  {
   "cell_type": "code",
   "execution_count": 19,
   "id": "adfb1487-99e5-4049-9977-73a01e4da57c",
   "metadata": {},
   "outputs": [
    {
     "data": {
      "text/plain": [
       "4"
      ]
     },
     "execution_count": 19,
     "metadata": {},
     "output_type": "execute_result"
    }
   ],
   "source": [
    "# convert 4.566 to integer\n",
    "int(4.566)"
   ]
  },
  {
   "cell_type": "code",
   "execution_count": 20,
   "id": "35177246-7f99-43ed-80b0-9bc0cc4e17b5",
   "metadata": {},
   "outputs": [
    {
     "data": {
      "text/plain": [
       "5.0"
      ]
     },
     "execution_count": 20,
     "metadata": {},
     "output_type": "execute_result"
    }
   ],
   "source": [
    "# convert 5 to float: adds \n",
    "float(5)"
   ]
  },
  {
   "cell_type": "code",
   "execution_count": 21,
   "id": "ccf38ece-9d22-462d-b980-dea5b684ed60",
   "metadata": {},
   "outputs": [
    {
     "data": {
      "text/plain": [
       "67"
      ]
     },
     "execution_count": 21,
     "metadata": {},
     "output_type": "execute_result"
    }
   ],
   "source": [
    "# absolute value of -67: 67\n",
    "abs(-67)"
   ]
  },
  {
   "cell_type": "code",
   "execution_count": 26,
   "id": "d2ad419d-f688-457f-b21d-02ba3fd16729",
   "metadata": {},
   "outputs": [
    {
     "data": {
      "text/plain": [
       "5"
      ]
     },
     "execution_count": 26,
     "metadata": {},
     "output_type": "execute_result"
    }
   ],
   "source": [
    "# you can convert strings that represent number with int/float\n",
    "\n",
    "int(\"5\")"
   ]
  },
  {
   "cell_type": "code",
   "execution_count": 27,
   "id": "45228166-0f70-4eb7-9c48-902808a3d8cc",
   "metadata": {},
   "outputs": [
    {
     "data": {
      "text/plain": [
       "5.5"
      ]
     },
     "execution_count": 27,
     "metadata": {},
     "output_type": "execute_result"
    }
   ],
   "source": [
    "float(\"5.5\")"
   ]
  },
  {
   "cell_type": "code",
   "execution_count": 23,
   "id": "4bd3b8aa-c133-413c-99d0-3c31f0b7fac0",
   "metadata": {},
   "outputs": [
    {
     "data": {
      "text/plain": [
       "5"
      ]
     },
     "execution_count": 23,
     "metadata": {},
     "output_type": "execute_result"
    }
   ],
   "source": [
    "abs(int(\"-5\"))"
   ]
  },
  {
   "cell_type": "markdown",
   "id": "deb03b70-402e-4964-b610-04b9b2bbee56",
   "metadata": {
    "tags": []
   },
   "source": [
    "## Boolean: `bool`\n",
    "\n",
    "Boolean types represent truth. They have only two possible values: `True` or `False`.\n",
    "\n",
    "Boolean types are the result of logic operations like `not`, `and`, `or`\n",
    "* `not` changes the value of the following proposition: `True` to `False` and viceversa.\n",
    "* `and` operations are True/False if **all** of the inputs are True/False\n",
    "    * True and True = True\n",
    "    * True and False = False\n",
    "    * False and True = False\n",
    "    * False and False = False\n",
    "* `or` operations are True/False if **one** of the inputs are True/False\n",
    "    * True or True = True\n",
    "    * True or False = True\n",
    "    * False or True = True\n",
    "    * False or False = False\n",
    "    \n",
    "When concatenating logical operations, the priority order from highest to lowest is the following: `not`, `and`, `or`\n",
    "\n",
    "We can *compare* variables and expressions using logic operators\n",
    "* `==` equal\n",
    "* `!=` not equal\n",
    "* `>` strictly greater than\n",
    "* `>=` greater than or equal\n",
    "* `<` strictly less than\n",
    "* `<=` less than or equal\n",
    "* `is` object identity\n",
    "* `is not` negated object identity\n",
    "* element `in` container"
   ]
  },
  {
   "cell_type": "code",
   "execution_count": 28,
   "id": "f99f8c69-db7d-4b08-a5c9-d575d4d9f04b",
   "metadata": {},
   "outputs": [
    {
     "data": {
      "text/plain": [
       "False"
      ]
     },
     "execution_count": 28,
     "metadata": {},
     "output_type": "execute_result"
    }
   ],
   "source": [
    "# not True is False\n",
    "not True"
   ]
  },
  {
   "cell_type": "code",
   "execution_count": 29,
   "id": "cf5bc149-03c2-453e-8b4e-7a418dac0fe5",
   "metadata": {},
   "outputs": [
    {
     "data": {
      "text/plain": [
       "True"
      ]
     },
     "execution_count": 29,
     "metadata": {},
     "output_type": "execute_result"
    }
   ],
   "source": [
    "6 > 3"
   ]
  },
  {
   "cell_type": "code",
   "execution_count": 30,
   "id": "855e356e-1611-4a77-a871-e3e171050eaa",
   "metadata": {},
   "outputs": [
    {
     "data": {
      "text/plain": [
       "False"
      ]
     },
     "execution_count": 30,
     "metadata": {},
     "output_type": "execute_result"
    }
   ],
   "source": [
    "# True and False = False\n",
    "# 7 > 6: True\n",
    "# type(\"hola\") == int: False\n",
    "\n",
    "(7 > 6) and (type(\"hola\") == int)\n",
    "\n",
    "# True and False"
   ]
  },
  {
   "cell_type": "code",
   "execution_count": 31,
   "id": "12990564-1d3a-4ed5-9d40-fce0b248741e",
   "metadata": {},
   "outputs": [
    {
     "data": {
      "text/plain": [
       "True"
      ]
     },
     "execution_count": 31,
     "metadata": {},
     "output_type": "execute_result"
    }
   ],
   "source": [
    "condition_1 = 7 > 10\n",
    "condition_2 = type(5.0) == int\n",
    "condition_3 = 10 > 5\n",
    "\n",
    "(not condition_1) or (condition_2) and (condition_3)\n",
    "# True or False and True"
   ]
  },
  {
   "cell_type": "markdown",
   "id": "f66b1850-59f7-481f-9647-e2e5820d96bd",
   "metadata": {
    "tags": []
   },
   "source": [
    "## Text sequences or strings: `str` \n",
    "\n",
    "Strings are immutable sequences of characters. They're defined with single, double or triple quotes:\n",
    "\n",
    "```Python\n",
    "str1 = 'using single quotes'\n",
    "str2 = \"usingdoble quotes\"\n",
    "str3 = \"\"\"\n",
    "using triple quotes\n",
    "allows us to write in different lines\n",
    "\"\"\"\n",
    "```"
   ]
  },
  {
   "cell_type": "markdown",
   "id": "6a70406e-ed7f-4e64-b9dd-3deff739dd15",
   "metadata": {
    "tags": []
   },
   "source": [
    "### Built-in methods and properties for strings\n",
    "\n",
    "* Convert to string:\n",
    "    * `str(thing_to_convert)`\n",
    "* Length: \n",
    "  * `len(string)`\n",
    "* Uppercase, lowercase, capitalize: \n",
    "  * Uppercase: `str.upper()`\n",
    "  * Lowercase: `str.lower()`\n",
    "  * Capitalizes first letter: `str.capitalize()`\n",
    "  * Capitalize every word in string: `str.title()`\n",
    "  * Swap upper with lower and viceversa: `str.swapcase()`\n",
    "* Split strings according to a specific substring: \n",
    "  * `str.split(substring)`, defaults with whitespace\n",
    "* Joining a list of strings with a specific substring:\n",
    "  * `substring.join(list_of_strings)`\n",
    "* Replace substrings in a string:\n",
    "  * `str.replace(old_substring, new_substring)`\n",
    "* Remove charactes at the beginning or end of a string:\n",
    "  * Beginning and end: `str.strip(substring)`\n",
    "  * Beginning: `str.lstrip(substring)`\n",
    "  * End: `str.rstrip(substring)`\n",
    "* Adding characters to string:\n",
    "  * Centering a string between certain amount of characters up to total length of N:\n",
    "    * `str.center(N, character)`, defaults with whitespace\n",
    "  * Justifying to left or right:\n",
    "    * Justify left: `str.ljust(N, character)`\n",
    "    * Justify right: `str.rjust(N, character)`\n",
    "  * Filling with zeros up to length N\n",
    "    * `str.zfill(N)`"
   ]
  },
  {
   "cell_type": "code",
   "execution_count": 34,
   "id": "c2962774-394a-4918-889c-f824d6f2dd3d",
   "metadata": {},
   "outputs": [
    {
     "data": {
      "text/plain": [
       "['hello', 'everyone']"
      ]
     },
     "execution_count": 34,
     "metadata": {},
     "output_type": "execute_result"
    }
   ],
   "source": [
    "# split\n",
    "\n",
    "split_list = \"hello everyone\".split()\n",
    "\n",
    "split_list"
   ]
  },
  {
   "cell_type": "code",
   "execution_count": 38,
   "id": "1dd386d6-f825-4fc1-93fc-7c9f92bc7aba",
   "metadata": {},
   "outputs": [
    {
     "data": {
      "text/plain": [
       "'helloXeveryone'"
      ]
     },
     "execution_count": 38,
     "metadata": {},
     "output_type": "execute_result"
    }
   ],
   "source": [
    "# join\n",
    "\n",
    "character = \"X\"\n",
    "\n",
    "character.join(split_list)"
   ]
  },
  {
   "cell_type": "code",
   "execution_count": 39,
   "id": "351c1eb1-5837-40a5-b265-abe18031017f",
   "metadata": {},
   "outputs": [
    {
     "data": {
      "text/plain": [
       "'this maCHINe is learning'"
      ]
     },
     "execution_count": 39,
     "metadata": {},
     "output_type": "execute_result"
    }
   ],
   "source": [
    "# replace\n",
    "string = \"this machine is learning\"\n",
    "\n",
    "string.replace(\"chin\", \"CHIN\")"
   ]
  },
  {
   "cell_type": "code",
   "execution_count": 41,
   "id": "b937c8a0-34b9-4bb4-9b88-4b5ade2274dd",
   "metadata": {},
   "outputs": [
    {
     "data": {
      "text/plain": [
       "'hello class'"
      ]
     },
     "execution_count": 41,
     "metadata": {},
     "output_type": "execute_result"
    }
   ],
   "source": [
    "# strip\n",
    "string = \"   hello class \"\n",
    "\n",
    "string.strip()"
   ]
  },
  {
   "cell_type": "code",
   "execution_count": 42,
   "id": "b38e5b2e-18d2-4f1d-83dd-1ad2ac673336",
   "metadata": {},
   "outputs": [
    {
     "data": {
      "text/plain": [
       "'hello class '"
      ]
     },
     "execution_count": 42,
     "metadata": {},
     "output_type": "execute_result"
    }
   ],
   "source": [
    "# lstrip\n",
    "\n",
    "string.lstrip()"
   ]
  },
  {
   "cell_type": "code",
   "execution_count": 43,
   "id": "90cab9df-d2d7-49e8-8a30-74f4f4336d7f",
   "metadata": {},
   "outputs": [
    {
     "data": {
      "text/plain": [
       "'   hello class'"
      ]
     },
     "execution_count": 43,
     "metadata": {},
     "output_type": "execute_result"
    }
   ],
   "source": [
    "# rstrip\n",
    "string.rstrip()"
   ]
  },
  {
   "cell_type": "code",
   "execution_count": 44,
   "id": "2317614e-eec9-436c-82e5-02550e1aa361",
   "metadata": {},
   "outputs": [
    {
     "data": {
      "text/plain": [
       "'123'"
      ]
     },
     "execution_count": 44,
     "metadata": {},
     "output_type": "execute_result"
    }
   ],
   "source": [
    "# specifying a character\n",
    "string = \"00000123\"\n",
    "\n",
    "string.lstrip(\"0\")"
   ]
  },
  {
   "cell_type": "code",
   "execution_count": 45,
   "id": "971b2c1c-e929-44ed-90b1-d17a2b109961",
   "metadata": {},
   "outputs": [
    {
     "data": {
      "text/plain": [
       "'     hello     '"
      ]
     },
     "execution_count": 45,
     "metadata": {},
     "output_type": "execute_result"
    }
   ],
   "source": [
    "# center\n",
    "\n",
    "string_to_center = \"hello\"\n",
    "\n",
    "string_to_center.center(15)"
   ]
  },
  {
   "cell_type": "code",
   "execution_count": 2,
   "id": "efcfc92e-3b9c-433f-9c4d-a628fcf45b92",
   "metadata": {},
   "outputs": [
    {
     "data": {
      "text/plain": [
       "'danikkkkkk'"
      ]
     },
     "execution_count": 2,
     "metadata": {},
     "output_type": "execute_result"
    }
   ],
   "source": [
    "# ljust\n",
    "\n",
    "string = \"dani\"\n",
    "\n",
    "string.ljust(10, \"k\")"
   ]
  },
  {
   "cell_type": "code",
   "execution_count": 3,
   "id": "bf854d24-60e7-4011-9674-71f11a9bfbf8",
   "metadata": {},
   "outputs": [
    {
     "data": {
      "text/plain": [
       "'000000dani'"
      ]
     },
     "execution_count": 3,
     "metadata": {},
     "output_type": "execute_result"
    }
   ],
   "source": [
    "# rjust\n",
    "string = \"dani\"\n",
    "\n",
    "string.rjust(10, \"0\")"
   ]
  },
  {
   "cell_type": "code",
   "execution_count": 4,
   "id": "ba88050a-22f8-4515-af51-2823f2b32f09",
   "metadata": {},
   "outputs": [
    {
     "data": {
      "text/plain": [
       "'000000dani'"
      ]
     },
     "execution_count": 4,
     "metadata": {},
     "output_type": "execute_result"
    }
   ],
   "source": [
    "string.zfill(10)"
   ]
  },
  {
   "cell_type": "markdown",
   "id": "a9f0ce95-0e97-4f72-8cf5-91d6b1f541f9",
   "metadata": {
    "tags": []
   },
   "source": [
    "### Formatting strings\n",
    "\n",
    "In order to include the content of variables in our strings, or when we want to represent other types as strings, we can use string formatting.\n",
    "\n",
    "There are many ways for doing this:\n",
    "* Converting each piece into a string and use `+` to build the final string\n",
    "* Using `str.format(item1, item2, ...)`\n",
    "* Using `f\"\"`"
   ]
  },
  {
   "cell_type": "code",
   "execution_count": 5,
   "id": "ef89f35d-b14b-4c7e-9a41-0963b830064f",
   "metadata": {},
   "outputs": [
    {
     "data": {
      "text/plain": [
       "'There are 4 directions: North, South, East, West'"
      ]
     },
     "execution_count": 5,
     "metadata": {},
     "output_type": "execute_result"
    }
   ],
   "source": [
    "# using `+`\n",
    "\n",
    "\"There are \" + str(4) + \" directions: North, South, East, West\""
   ]
  },
  {
   "cell_type": "code",
   "execution_count": 6,
   "id": "89905c7d-d227-42f2-b7a9-a14a382717e3",
   "metadata": {},
   "outputs": [
    {
     "data": {
      "text/plain": [
       "'There are 4 directions: North, South, East, West'"
      ]
     },
     "execution_count": 6,
     "metadata": {},
     "output_type": "execute_result"
    }
   ],
   "source": [
    "# using `str.format`\n",
    "\n",
    "\"There are 4 directions: {}, {}, {}, {}\".format(\"North\", \"South\", \"East\", \"West\")"
   ]
  },
  {
   "cell_type": "code",
   "execution_count": 7,
   "id": "1eacdf51-ed2e-4c1d-b920-c0b45d3dd7cc",
   "metadata": {},
   "outputs": [
    {
     "data": {
      "text/plain": [
       "'There are 4 directions: North, South, East, West'"
      ]
     },
     "execution_count": 7,
     "metadata": {},
     "output_type": "execute_result"
    }
   ],
   "source": [
    "# using `f\"\"`\n",
    "directions = [\"North\", \"South\", \"East\", \"West\"]\n",
    "directions_str = \", \".join(directions)\n",
    "\n",
    "f\"There are {len(directions)} directions: {directions_str}\""
   ]
  },
  {
   "cell_type": "markdown",
   "id": "457f954c-dcd8-42f8-ac85-2cb876c44242",
   "metadata": {
    "tags": []
   },
   "source": [
    "## Containers\n",
    "\n",
    "|| Lists | Tuples | Sets | Dictionaries |\n",
    "|----|--------| --- | --- | --- |\n",
    "| **definition** | `list()`, [] | `tuple()`, () | `set()`| `dict()`, {} |\n",
    "| **ordered** | yes | yes | no | no |\n",
    "| **indexed** | yes | yes | no | no |\n",
    "| **mutable** | yes | no | yes | yes |\n",
    "| **allow duplicates** | yes | yes | no | no (keys), yes (values) |"
   ]
  },
  {
   "cell_type": "markdown",
   "id": "802f1e7b-7098-44be-beec-e96bf250d164",
   "metadata": {},
   "source": [
    "### Indexing and slicing containers\n",
    "\n",
    "In order to access the n-th element of an indexed container (lists and tuples), we can use straight brackets with the index we want --`container[index]`-- to access it. We have to keep in mind that Python is a zero-based index language."
   ]
  },
  {
   "cell_type": "code",
   "execution_count": 60,
   "id": "002bffec-4fe0-42e4-aabc-6c6e1872fbbf",
   "metadata": {},
   "outputs": [
    {
     "data": {
      "text/plain": [
       "1"
      ]
     },
     "execution_count": 60,
     "metadata": {},
     "output_type": "execute_result"
    }
   ],
   "source": [
    "# get first element of list\n",
    "[1, 2, 3][0]"
   ]
  },
  {
   "cell_type": "code",
   "execution_count": 61,
   "id": "090bcc48-adb3-4f4f-b31b-ae2544c04551",
   "metadata": {},
   "outputs": [
    {
     "data": {
      "text/plain": [
       "3"
      ]
     },
     "execution_count": 61,
     "metadata": {},
     "output_type": "execute_result"
    }
   ],
   "source": [
    "# get last element of tuple\n",
    "(1, 2, 3)[-1]"
   ]
  },
  {
   "cell_type": "code",
   "execution_count": 62,
   "id": "ff99da4c-29a5-4882-a6fd-b379f7b6a6e3",
   "metadata": {},
   "outputs": [
    {
     "data": {
      "text/plain": [
       "[1, 2, 3]"
      ]
     },
     "execution_count": 62,
     "metadata": {},
     "output_type": "execute_result"
    }
   ],
   "source": [
    "# getting the 3 first elements of list\n",
    "[1, 2, 3, 4, 5][:3]"
   ]
  },
  {
   "cell_type": "code",
   "execution_count": 8,
   "id": "01cb170a-49e6-4ae8-b164-f377ca8e8ceb",
   "metadata": {},
   "outputs": [
    {
     "data": {
      "text/plain": [
       "[6, 4, 2]"
      ]
     },
     "execution_count": 8,
     "metadata": {},
     "output_type": "execute_result"
    }
   ],
   "source": [
    "# define a list\n",
    "my_list = [1, 2, 3, 4, 5, 6]\n",
    "\n",
    "# get the elements taken two by two starting from the end\n",
    "my_list[::-2]"
   ]
  },
  {
   "cell_type": "markdown",
   "id": "ba506c32-8063-4c5c-aaa4-03fea3c248ae",
   "metadata": {
    "tags": []
   },
   "source": [
    "### Checking if element is contained in container\n",
    "\n",
    "If we want to check if a certain element is contained in a bigger element, we can use `in`.\n",
    "\n",
    "```Python\n",
    "element in bigger_element\n",
    "```"
   ]
  },
  {
   "cell_type": "code",
   "execution_count": 9,
   "id": "e20ee083-75a7-418e-b949-7518453d8bab",
   "metadata": {},
   "outputs": [
    {
     "data": {
      "text/plain": [
       "True"
      ]
     },
     "execution_count": 9,
     "metadata": {},
     "output_type": "execute_result"
    }
   ],
   "source": [
    "# substring in string\n",
    "\"garcia\" in \"daniel garcia hernandez\""
   ]
  },
  {
   "cell_type": "code",
   "execution_count": 10,
   "id": "ac43164b-d6de-4d74-a160-f909d9d9aefd",
   "metadata": {},
   "outputs": [
    {
     "data": {
      "text/plain": [
       "True"
      ]
     },
     "execution_count": 10,
     "metadata": {},
     "output_type": "execute_result"
    }
   ],
   "source": [
    "# number in set\n",
    "4 in {4, 5, 6}"
   ]
  },
  {
   "cell_type": "code",
   "execution_count": 11,
   "id": "533e1b1d-4a5e-4b42-a73b-0b5f55cc89b3",
   "metadata": {},
   "outputs": [
    {
     "data": {
      "text/plain": [
       "True"
      ]
     },
     "execution_count": 11,
     "metadata": {},
     "output_type": "execute_result"
    }
   ],
   "source": [
    "# key in dictionary\n",
    "\"a\" in {\"a\": 1, \"b\": 2}"
   ]
  },
  {
   "cell_type": "markdown",
   "id": "f1f81b54-8ede-4ade-8cd6-34fa1bcdd466",
   "metadata": {
    "tags": []
   },
   "source": [
    "### Concatenating and multiplying strings and lists\n",
    "\n",
    "We can put together two or more strings by using the addition symbol `+`\n",
    "\n",
    "We can repeat a string or a list by multiplying it times the number of times we want."
   ]
  },
  {
   "cell_type": "code",
   "execution_count": 12,
   "id": "d3b7f680-f63f-4cb4-a13b-63497d66083d",
   "metadata": {},
   "outputs": [
    {
     "data": {
      "text/plain": [
       "'hola a todos'"
      ]
     },
     "execution_count": 12,
     "metadata": {},
     "output_type": "execute_result"
    }
   ],
   "source": [
    "# adding strings\n",
    "\"hola\" + \" a\" + \" todos\""
   ]
  },
  {
   "cell_type": "code",
   "execution_count": 13,
   "id": "bd2e9f5b-b0a8-46b2-ab90-63464bcc05ee",
   "metadata": {},
   "outputs": [
    {
     "data": {
      "text/plain": [
       "[1, 2, 3, 'a', 'b', 'c']"
      ]
     },
     "execution_count": 13,
     "metadata": {},
     "output_type": "execute_result"
    }
   ],
   "source": [
    "# adding lists\n",
    "[1, 2, 3] + [\"a\", \"b\", \"c\"]"
   ]
  },
  {
   "cell_type": "code",
   "execution_count": 14,
   "id": "97bb61a1-997c-44c5-889b-4c1ce4c6232a",
   "metadata": {},
   "outputs": [
    {
     "data": {
      "text/plain": [
       "'abc abc abc abc abc '"
      ]
     },
     "execution_count": 14,
     "metadata": {},
     "output_type": "execute_result"
    }
   ],
   "source": [
    "# multiplying strings\n",
    "\"abc \" * 5"
   ]
  },
  {
   "cell_type": "code",
   "execution_count": 15,
   "id": "dc8977c6-4b5a-4ea1-b07f-be0310a19963",
   "metadata": {},
   "outputs": [
    {
     "data": {
      "text/plain": [
       "[1, 2, 3, 1, 2, 3, 1, 2, 3, 1, 2, 3]"
      ]
     },
     "execution_count": 15,
     "metadata": {},
     "output_type": "execute_result"
    }
   ],
   "source": [
    "# multiplying lists\n",
    "[1, 2, 3] * 4"
   ]
  },
  {
   "cell_type": "markdown",
   "id": "da5a1476-7afc-4101-9c32-3dc751317bf0",
   "metadata": {},
   "source": [
    "### Updating mutable containers\n",
    "\n",
    "#### Updating lists\n",
    "\n",
    "We can use `list.append(element)` to add elements to an existing list. \n",
    "\n",
    "We can remove items from a list in two different ways.\n",
    "* `list.pop(index)`\n",
    "* `list.remove(element)`"
   ]
  },
  {
   "cell_type": "code",
   "execution_count": 20,
   "id": "0531f20d-4356-47dd-b289-8e61cec6fa10",
   "metadata": {},
   "outputs": [
    {
     "data": {
      "text/plain": [
       "[1, 2, 3, 4, 5]"
      ]
     },
     "execution_count": 20,
     "metadata": {},
     "output_type": "execute_result"
    }
   ],
   "source": [
    "# define list\n",
    "my_list = [1, 2, 3, 4, 5]\n",
    "\n",
    "my_list"
   ]
  },
  {
   "cell_type": "code",
   "execution_count": 21,
   "id": "e79397e3-24cb-45aa-83fb-7ff22c38aeef",
   "metadata": {},
   "outputs": [
    {
     "data": {
      "text/plain": [
       "[1, 2, 3, 4, 5, 6]"
      ]
     },
     "execution_count": 21,
     "metadata": {},
     "output_type": "execute_result"
    }
   ],
   "source": [
    "# add new element\n",
    "my_list.append(6)\n",
    "\n",
    "my_list"
   ]
  },
  {
   "cell_type": "code",
   "execution_count": 22,
   "id": "b462a173-3580-4d82-85a9-b6278b728c69",
   "metadata": {},
   "outputs": [
    {
     "data": {
      "text/plain": [
       "[1, 2, 3, 4, 5, 6, 7]"
      ]
     },
     "execution_count": 22,
     "metadata": {},
     "output_type": "execute_result"
    }
   ],
   "source": [
    "# or with + and a new list\n",
    "\n",
    "my_list + [7]"
   ]
  },
  {
   "cell_type": "code",
   "execution_count": 23,
   "id": "9bd0469c-36e6-402f-a20a-2b9ceb125bbc",
   "metadata": {},
   "outputs": [
    {
     "data": {
      "text/plain": [
       "[1, 2, 3, 5, 6]"
      ]
     },
     "execution_count": 23,
     "metadata": {},
     "output_type": "execute_result"
    }
   ],
   "source": [
    "# remove element with index 3 (number 4) from list: using pop(index)\n",
    "# by default and without index, it will remove the last element\n",
    "\n",
    "my_list.pop(3)\n",
    "\n",
    "my_list"
   ]
  },
  {
   "cell_type": "code",
   "execution_count": 24,
   "id": "02742b5e-3a9b-483c-a082-ea574d34b930",
   "metadata": {},
   "outputs": [
    {
     "data": {
      "text/plain": [
       "[1, 2, 3, 6]"
      ]
     },
     "execution_count": 24,
     "metadata": {},
     "output_type": "execute_result"
    }
   ],
   "source": [
    "# remove number 5 from the list\n",
    "\n",
    "my_list.remove(5)\n",
    "\n",
    "my_list"
   ]
  },
  {
   "cell_type": "markdown",
   "id": "b3111424-3e26-4010-9e9b-7327e2f2b3bc",
   "metadata": {},
   "source": [
    "### Updating sets\n",
    "\n",
    "We can add a single element to our set with `set.add(element)` or we can add more than one element with `set.update(container)`\n",
    "\n",
    "We can remove elements by value from our set with `set.discard(element)`"
   ]
  },
  {
   "cell_type": "code",
   "execution_count": 25,
   "id": "a9b4b48b-f8cc-4cbe-9de4-a382f7a9aab8",
   "metadata": {},
   "outputs": [
    {
     "data": {
      "text/plain": [
       "{1, 2, 3, 4, 5}"
      ]
     },
     "execution_count": 25,
     "metadata": {},
     "output_type": "execute_result"
    }
   ],
   "source": [
    "# create set\n",
    "\n",
    "my_set = set([1, 2, 3, 4, 5])\n",
    "\n",
    "my_set"
   ]
  },
  {
   "cell_type": "code",
   "execution_count": 26,
   "id": "500f593a-bab1-4c3a-a22d-755f51b1b8f6",
   "metadata": {},
   "outputs": [
    {
     "data": {
      "text/plain": [
       "{1, 2, 3, 4, 5, 6}"
      ]
     },
     "execution_count": 26,
     "metadata": {},
     "output_type": "execute_result"
    }
   ],
   "source": [
    "# add element to set\n",
    "\n",
    "my_set.add(6)\n",
    "\n",
    "my_set"
   ]
  },
  {
   "cell_type": "code",
   "execution_count": 27,
   "id": "eb38693e-a7ee-4d6c-85d9-8297fb41500d",
   "metadata": {},
   "outputs": [
    {
     "data": {
      "text/plain": [
       "{1, 2, 3, 4, 5, 6, 8, 9}"
      ]
     },
     "execution_count": 27,
     "metadata": {},
     "output_type": "execute_result"
    }
   ],
   "source": [
    "# update set\n",
    "\n",
    "my_set.update([8, 9, 9, 9])\n",
    "\n",
    "my_set"
   ]
  },
  {
   "cell_type": "code",
   "execution_count": 28,
   "id": "be752da7-e464-44e4-afb8-7831321af438",
   "metadata": {},
   "outputs": [
    {
     "data": {
      "text/plain": [
       "{1, 2, 3, 5, 6, 8, 9}"
      ]
     },
     "execution_count": 28,
     "metadata": {},
     "output_type": "execute_result"
    }
   ],
   "source": [
    "# remove 4 from set\n",
    "\n",
    "my_set.discard(4)\n",
    "\n",
    "my_set"
   ]
  },
  {
   "cell_type": "code",
   "execution_count": 29,
   "id": "4df04f52-f91a-4207-a1a5-e3ec737c0f4c",
   "metadata": {},
   "outputs": [
    {
     "data": {
      "text/plain": [
       "{1, 2, 3, 5, 8, 9}"
      ]
     },
     "execution_count": 29,
     "metadata": {},
     "output_type": "execute_result"
    }
   ],
   "source": [
    "my_set.remove(6)\n",
    "\n",
    "my_set"
   ]
  },
  {
   "cell_type": "markdown",
   "id": "57a482a8-9366-4621-9060-171f3c98a9a2",
   "metadata": {
    "tags": []
   },
   "source": [
    "### Updating dictionaries\n",
    "\n",
    "We can add a new `key-value` pair to our dictionaries using the following statement: `dict[new_key] = new_value`\n",
    "\n",
    "We can also remove `key-value` pair by using `dict.pop(key_to_remove)`"
   ]
  },
  {
   "cell_type": "code",
   "execution_count": 30,
   "id": "dae0e62a-fada-4210-9b7a-739721e23bca",
   "metadata": {},
   "outputs": [
    {
     "data": {
      "text/plain": [
       "{'two': 2, 'one': 1, 'three': 3}"
      ]
     },
     "execution_count": 30,
     "metadata": {},
     "output_type": "execute_result"
    }
   ],
   "source": [
    "# create dict\n",
    "\n",
    "my_dict = {\n",
    "    \"two\": 2, \"one\": 1, \"three\": 3 \n",
    "}\n",
    "\n",
    "my_dict"
   ]
  },
  {
   "cell_type": "code",
   "execution_count": 31,
   "id": "95095487-5529-4fde-84b6-8d966862db50",
   "metadata": {},
   "outputs": [
    {
     "data": {
      "text/plain": [
       "{'two': 2, 'one': 1, 'three': 3, 'four': 4}"
      ]
     },
     "execution_count": 31,
     "metadata": {},
     "output_type": "execute_result"
    }
   ],
   "source": [
    "# add new key-value pair\n",
    "my_dict[\"four\"] = 4\n",
    "\n",
    "my_dict"
   ]
  },
  {
   "cell_type": "code",
   "execution_count": 32,
   "id": "8024cb56-e1b8-43e0-ab20-8c6f8f381fb0",
   "metadata": {},
   "outputs": [
    {
     "data": {
      "text/plain": [
       "{'two': 2, 'one': 1, 'three': 3, 'four': 4, 'five': 5}"
      ]
     },
     "execution_count": 32,
     "metadata": {},
     "output_type": "execute_result"
    }
   ],
   "source": [
    "# update dictionary\n",
    "\n",
    "my_dict.update({\"five\": 5})\n",
    "\n",
    "my_dict"
   ]
  },
  {
   "cell_type": "code",
   "execution_count": 33,
   "id": "6b497c5f-e4a2-497c-9c8d-cfcf9eba86f9",
   "metadata": {},
   "outputs": [
    {
     "data": {
      "text/plain": [
       "{'two': 2, 'three': 3, 'four': 4, 'five': 5}"
      ]
     },
     "execution_count": 33,
     "metadata": {},
     "output_type": "execute_result"
    }
   ],
   "source": [
    "# remove {\"one\": 1} from our dictionary\n",
    "\n",
    "my_dict.pop(\"one\")\n",
    "\n",
    "my_dict"
   ]
  },
  {
   "cell_type": "markdown",
   "id": "55e16821-a911-4a29-b399-d8d78164b81e",
   "metadata": {},
   "source": [
    "### More on dictionaries\n",
    "\n",
    "* Dictionaries can be broken into a list of tuples (key, value) by using `dict.items()`\n",
    "* Dictionaries are integral to computing, since they are the basis of JSON files"
   ]
  },
  {
   "cell_type": "code",
   "execution_count": 34,
   "id": "dc5f2117-6573-46e3-8e78-455ff2b5a426",
   "metadata": {},
   "outputs": [
    {
     "data": {
      "text/plain": [
       "dict_items([('key1', 'value1'), ('key2', 'value2'), ('key3', 'value3')])"
      ]
     },
     "execution_count": 34,
     "metadata": {},
     "output_type": "execute_result"
    }
   ],
   "source": [
    "my_dict = {\n",
    "    \"key1\": \"value1\",\n",
    "    \"key2\": \"value2\",\n",
    "    \"key3\": \"value3\"\n",
    "}\n",
    "\n",
    "my_dict.items()"
   ]
  },
  {
   "cell_type": "markdown",
   "id": "e3a8ba3e-2748-46cd-a8ca-118954c1ab91",
   "metadata": {},
   "source": [
    "## Practice"
   ]
  },
  {
   "cell_type": "markdown",
   "id": "b111331f-f3dd-486d-b2c2-c8b47cecfc11",
   "metadata": {},
   "source": [
    "### Exercise 1 (Homework): \n",
    "\n",
    "How would you check if a number is even or odd?"
   ]
  },
  {
   "cell_type": "code",
   "execution_count": 35,
   "id": "a6c56d30-f619-4ac6-9ac8-068e1f9048bb",
   "metadata": {},
   "outputs": [
    {
     "data": {
      "text/plain": [
       "1.5"
      ]
     },
     "execution_count": 35,
     "metadata": {},
     "output_type": "execute_result"
    }
   ],
   "source": [
    "7.5 % 2 "
   ]
  },
  {
   "cell_type": "code",
   "execution_count": 36,
   "id": "9847f3c8-cb7f-45be-b965-648e7a6fa6cf",
   "metadata": {},
   "outputs": [
    {
     "name": "stdout",
     "output_type": "stream",
     "text": [
      "This number is odd\n"
     ]
    }
   ],
   "source": [
    "number = 7.5\n",
    "\n",
    "if number % 2 == 0:\n",
    "    print(\"This number is even\")\n",
    "else:\n",
    "    print(\"This number is odd\")"
   ]
  },
  {
   "cell_type": "code",
   "execution_count": 37,
   "id": "f2221be5-9d54-40e7-886f-9834ccfe2a11",
   "metadata": {},
   "outputs": [
    {
     "data": {
      "text/plain": [
       "'odd'"
      ]
     },
     "execution_count": 37,
     "metadata": {},
     "output_type": "execute_result"
    }
   ],
   "source": [
    "result = \"even\" if number % 2 == 0 else \"odd\" \n",
    "\n",
    "result"
   ]
  },
  {
   "cell_type": "markdown",
   "id": "b59b81ca-39fd-450b-ac12-f4ce6652c657",
   "metadata": {},
   "source": [
    "### Exercise 2:\n",
    "What's results of the following statement?\n",
    "\n",
    "```Python\n",
    "condition_1 = 10 > 8\n",
    "condition_2 = type(\"hello!\") == int\n",
    "condition_3 = \"4\" in \"1234\"\n",
    "\n",
    "condition_1 or not condition_2 and condition_3\n",
    "```"
   ]
  },
  {
   "cell_type": "code",
   "execution_count": 39,
   "id": "240a99a7-4d87-4004-a22f-3b344cbf62a1",
   "metadata": {},
   "outputs": [
    {
     "data": {
      "text/plain": [
       "True"
      ]
     },
     "execution_count": 39,
     "metadata": {},
     "output_type": "execute_result"
    }
   ],
   "source": [
    "condition_1 = 10 > 8\n",
    "condition_2 = type(\"hello!\") == int\n",
    "condition_3 = \"4\" in \"1234\"\n",
    "\n",
    "condition_1 or not condition_2 and condition_3"
   ]
  },
  {
   "cell_type": "markdown",
   "id": "9865c7ab-257b-4b59-9c9a-7d603988e3a0",
   "metadata": {},
   "source": [
    "### Exercise 3:\n",
    "Create a list with your names and last names as independent elements e.g. `[\"daniel\", \"garcia hernandez\"]`, and add to it your age as string"
   ]
  },
  {
   "cell_type": "code",
   "execution_count": 40,
   "id": "6cbcaf4e-ebe2-4731-b05a-13ddfb314c89",
   "metadata": {},
   "outputs": [
    {
     "data": {
      "text/plain": [
       "['daniel', 'garcia', 'hernandez', '33']"
      ]
     },
     "execution_count": 40,
     "metadata": {},
     "output_type": "execute_result"
    }
   ],
   "source": [
    "list_name = [\"daniel\", \"garcia\", \"hernandez\"]\n",
    "\n",
    "list_name.append(\"33\")\n",
    "\n",
    "list_name"
   ]
  },
  {
   "cell_type": "markdown",
   "id": "41822994-4239-442e-adf9-ec69841e66bc",
   "metadata": {},
   "source": [
    "### Exercise 4 (Homework):\n",
    "\n",
    "Create a dictionary called `countries` with 5 countries of your choice, and include the following information in it for each country:\n",
    "\n",
    "```Python\n",
    "countries = {\n",
    "    \"country_1\": {\n",
    "        \"name\": name,\n",
    "        \"capital_city\": capital_city,\n",
    "    },\n",
    "    ...\n",
    "}\n",
    "```"
   ]
  },
  {
   "cell_type": "code",
   "execution_count": 41,
   "id": "0a68d648-be5f-4552-8c95-b549bc7ac281",
   "metadata": {},
   "outputs": [],
   "source": [
    "# homework"
   ]
  },
  {
   "cell_type": "markdown",
   "id": "9657bc9d-f799-4b92-87e3-81ccc84cccd4",
   "metadata": {},
   "source": [
    "### Exercise 5 (Homework):\n",
    "\n",
    "Update the `countries` dictionary with this piece of information:\n",
    "\n",
    "```Python\n",
    "more_countries = {\n",
    "    \"country_6\": {\n",
    "        \"name\": \"Australia\",\n",
    "        \"capital_city\": \"Canberra\"\n",
    "    },\n",
    "    \"country_7\": {\n",
    "        \"name\": \"Canada\",\n",
    "        \"capital_city\": \"Ottawa\"   \n",
    "    }\n",
    "}\n",
    "```"
   ]
  },
  {
   "cell_type": "code",
   "execution_count": 42,
   "id": "84030d18-9043-4e30-8f8e-497a7e9e6da4",
   "metadata": {},
   "outputs": [
    {
     "data": {
      "text/plain": [
       "{'country_6': {'name': 'Australia', 'capital_city': 'Canberra'},\n",
       " 'country_7': {'name': 'Canada', 'capital_city': 'Ottawa'},\n",
       " 'country_8': {'name': 'Australia', 'capital_city': 'Canberra'},\n",
       " 'country_9': {'name': 'Canada', 'capital_city': 'Ottawa'}}"
      ]
     },
     "execution_count": 42,
     "metadata": {},
     "output_type": "execute_result"
    }
   ],
   "source": [
    "my_dict = {\n",
    "    \"country_6\": {\n",
    "        \"name\": \"Australia\",\n",
    "        \"capital_city\": \"Canberra\"\n",
    "    },\n",
    "    \"country_7\": {\n",
    "        \"name\": \"Canada\",\n",
    "        \"capital_city\": \"Ottawa\"   \n",
    "    }\n",
    "}\n",
    "\n",
    "more_countries = {\n",
    "    \"country_8\": {\n",
    "        \"name\": \"Australia\",\n",
    "        \"capital_city\": \"Canberra\"\n",
    "    },\n",
    "    \"country_9\": {\n",
    "        \"name\": \"Canada\",\n",
    "        \"capital_city\": \"Ottawa\"   \n",
    "    }\n",
    "}\n",
    "\n",
    "my_dict.update(more_countries)\n",
    "\n",
    "my_dict"
   ]
  },
  {
   "cell_type": "markdown",
   "id": "1f5ba0e3-2e5a-47c4-971e-ee29cdc57700",
   "metadata": {},
   "source": [
    "### Exercise 6 (Homework):\n",
    "\n",
    "Remove `country_6` from your `countries` dictionary."
   ]
  },
  {
   "cell_type": "code",
   "execution_count": 43,
   "id": "aacf82a0-6cac-48c1-b407-fbb0742edafc",
   "metadata": {},
   "outputs": [
    {
     "data": {
      "text/plain": [
       "{'name': 'Australia', 'capital_city': 'Canberra'}"
      ]
     },
     "execution_count": 43,
     "metadata": {},
     "output_type": "execute_result"
    }
   ],
   "source": [
    "my_dict.pop(\"country_6\")"
   ]
  },
  {
   "cell_type": "code",
   "execution_count": 44,
   "id": "5a8b6148-2fcb-4a1f-8da2-573b6dc57c97",
   "metadata": {},
   "outputs": [
    {
     "data": {
      "text/plain": [
       "{'country_7': {'name': 'Canada', 'capital_city': 'Ottawa'},\n",
       " 'country_8': {'name': 'Australia', 'capital_city': 'Canberra'},\n",
       " 'country_9': {'name': 'Canada', 'capital_city': 'Ottawa'}}"
      ]
     },
     "execution_count": 44,
     "metadata": {},
     "output_type": "execute_result"
    }
   ],
   "source": [
    "my_dict"
   ]
  },
  {
   "cell_type": "code",
   "execution_count": null,
   "id": "d3304be5",
   "metadata": {},
   "outputs": [],
   "source": []
  }
 ],
 "metadata": {
  "interpreter": {
   "hash": "a9f295c814a5ce7ff0b0a20f2b13117bfaf008fc7980e281f2c2bfa8e9ec0fbf"
  },
  "kernelspec": {
   "display_name": "Python [conda env:ml2] *",
   "language": "python",
   "name": "python3"
  },
  "language_info": {
   "codemirror_mode": {
    "name": "ipython",
    "version": 3
   },
   "file_extension": ".py",
   "mimetype": "text/x-python",
   "name": "python",
   "nbconvert_exporter": "python",
   "pygments_lexer": "ipython3",
   "version": "3.8.12"
  }
 },
 "nbformat": 4,
 "nbformat_minor": 5
}
