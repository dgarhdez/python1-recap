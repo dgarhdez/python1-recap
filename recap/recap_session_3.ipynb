{
 "cells": [
  {
   "cell_type": "markdown",
   "id": "c6eb2848-d09a-4d56-a7d2-c394dc8d1e26",
   "metadata": {},
   "source": [
    "# Recap Session 3: Functions\n",
    "\n",
    "* User-defined functions\n",
    "* Lambda functions"
   ]
  },
  {
   "cell_type": "markdown",
   "id": "276666a8-2f02-4f21-a0f4-4cae47842429",
   "metadata": {},
   "source": [
    "## User-defined functions\n",
    "\n",
    "When we want to reuse pieces of code within our project, we might as well encapsulate it under a name that we choose, and reuse it when needed further ahead.\n",
    "\n",
    "This is called User-defined functions.\n",
    "\n",
    "We can define our own functions by using the following structure:\n",
    "\n",
    "```Python\n",
    "def my_function_name(arguments):\n",
    "    do_something\n",
    "    return something_else\n",
    "```\n",
    "\n",
    "Once we've executed the previous snippet, we can reuse our function as many times as we want by calling it by its name:\n",
    "```Python\n",
    "my_function_name(arguments)\n",
    "```\n",
    "\n",
    "When defining functions, we always have to follow the same struture: \n",
    "```Python\n",
    "# optional items in brackets\n",
    "def name([arguments]):\n",
    "    stuff_to_do\n",
    "    [return something]\n",
    "```"
   ]
  },
  {
   "cell_type": "code",
   "execution_count": 2,
   "id": "cae20fe8-d8a2-467c-be17-3d0bb2e795b1",
   "metadata": {},
   "outputs": [
    {
     "name": "stdout",
     "output_type": "stream",
     "text": [
      "something\n"
     ]
    }
   ],
   "source": [
    "def function_without_return():\n",
    "    print(\"something\")\n",
    "    \n",
    "function_without_return()"
   ]
  },
  {
   "cell_type": "code",
   "execution_count": 3,
   "id": "81189ea4-462a-467b-b1a9-7456e9ac978f",
   "metadata": {},
   "outputs": [
    {
     "name": "stdout",
     "output_type": "stream",
     "text": [
      "something\n"
     ]
    },
    {
     "data": {
      "text/plain": [
       "NoneType"
      ]
     },
     "execution_count": 3,
     "metadata": {},
     "output_type": "execute_result"
    }
   ],
   "source": [
    "var = function_without_return()\n",
    "\n",
    "type(var)"
   ]
  },
  {
   "cell_type": "code",
   "execution_count": 6,
   "id": "4633fc74-c575-4548-89c0-66a7b37786bc",
   "metadata": {},
   "outputs": [
    {
     "data": {
      "text/plain": [
       "[(4, 6), (6, 8), (8, 10)]"
      ]
     },
     "execution_count": 6,
     "metadata": {},
     "output_type": "execute_result"
    }
   ],
   "source": [
    "# let's create a function that receives a list [n1, n2, n3, ...] of numbers \n",
    "# and returns another list of tuples [(n1, n2), (n2, n3), ...]\n",
    "\n",
    "def list_to_tuples(list_of_numbers):\n",
    "    first_part = list_of_numbers[:-1]\n",
    "    second_part = list_of_numbers[1:]\n",
    "    new_list = list(zip(first_part, second_part))\n",
    "    return new_list\n",
    "\n",
    "list_to_tuples([4, 6, 8, 10])"
   ]
  },
  {
   "cell_type": "code",
   "execution_count": 7,
   "id": "6f55bd00-cf60-4ad5-acec-5b1d7cef3b95",
   "metadata": {},
   "outputs": [
    {
     "data": {
      "text/plain": [
       "1.4142135623730951"
      ]
     },
     "execution_count": 7,
     "metadata": {},
     "output_type": "execute_result"
    }
   ],
   "source": [
    "# function that receives 4 numbers: 2 x-coordinates and 2 y-coordinates and returns the distance\n",
    "# distance = sqrt((x2-x1)^2 + (y2-y1)^2)\n",
    "\n",
    "def distance(x1, x2, y1, y2):\n",
    "    d_x_y = ((x1-x2)**2 + (y1-y2)**2)**0.5\n",
    "    return d_x_y\n",
    "\n",
    "distance(1, 2, 4, 5)"
   ]
  },
  {
   "cell_type": "code",
   "execution_count": 8,
   "id": "691be198-f0a5-4ce4-85d2-b17c4a650246",
   "metadata": {},
   "outputs": [
    {
     "data": {
      "text/plain": [
       "1.4142135623730951"
      ]
     },
     "execution_count": 8,
     "metadata": {},
     "output_type": "execute_result"
    }
   ],
   "source": [
    "# using math instead of the builtin function of power\n",
    "import math\n",
    "\n",
    "def distance(x1, x2, y1, y2):\n",
    "    import math\n",
    "    d_x_y = math.sqrt((x1-x2)**2 + (y1-y2)**2)\n",
    "    return d_x_y\n",
    "\n",
    "distance(1, 2, 4, 5)"
   ]
  },
  {
   "cell_type": "markdown",
   "id": "83ca0c42-08e7-4d62-9fb7-f74378e008da",
   "metadata": {},
   "source": [
    "### Arguments: input, positional and keyword arguments\n",
    "\n",
    "Arguments are the input we as users pass to the function to perform its operations. Depending on how we define the arguments, the way of passing them to our function when called will change the behavior.\n",
    "\n",
    "We can pass arguments either by position -- according to the position in the definition-- or by the keyword with which they were defined.\n",
    "\n",
    "Rules:\n",
    "* We can use all positional arguments IF THE ORDER IS THE SAME AS IN THE DEFINITION\n",
    "* We can use all keyword arguments with whichever order we want\n",
    "* If we mix positional and keyword, positional arguments MUST GO BEFORE keyword arguments"
   ]
  },
  {
   "cell_type": "code",
   "execution_count": 9,
   "id": "73e2c16e-8b02-44a0-89c7-00fe9957b092",
   "metadata": {},
   "outputs": [],
   "source": [
    "# function that returns (a * b)\n",
    "def example_function(a, b):\n",
    "    operation = a * b\n",
    "    return operation"
   ]
  },
  {
   "cell_type": "code",
   "execution_count": 10,
   "id": "235275b6-bc22-4267-9ac2-291097fde14f",
   "metadata": {},
   "outputs": [
    {
     "data": {
      "text/plain": [
       "48"
      ]
     },
     "execution_count": 10,
     "metadata": {},
     "output_type": "execute_result"
    }
   ],
   "source": [
    "# passing the arguments by position\n",
    "\n",
    "example_function(6, 8)  # 6 * 8"
   ]
  },
  {
   "cell_type": "code",
   "execution_count": 11,
   "id": "fdbaca42-b491-4184-9fb0-c6aad9298e2a",
   "metadata": {},
   "outputs": [
    {
     "data": {
      "text/plain": [
       "48"
      ]
     },
     "execution_count": 11,
     "metadata": {},
     "output_type": "execute_result"
    }
   ],
   "source": [
    "# passing first argument by position and second by keyword\n",
    "\n",
    "example_function(6, b=8)"
   ]
  },
  {
   "cell_type": "code",
   "execution_count": 12,
   "id": "07dd63d2-feae-45e3-b28e-85cee44b19ad",
   "metadata": {},
   "outputs": [
    {
     "ename": "SyntaxError",
     "evalue": "positional argument follows keyword argument (918999546.py, line 4)",
     "output_type": "error",
     "traceback": [
      "\u001b[0;36m  File \u001b[0;32m\"/var/folders/kn/gt9ggj051wdfjnfqv8xjl8qh0000gn/T/ipykernel_41658/918999546.py\"\u001b[0;36m, line \u001b[0;32m4\u001b[0m\n\u001b[0;31m    example_function(a=6, 8)\u001b[0m\n\u001b[0m                          ^\u001b[0m\n\u001b[0;31mSyntaxError\u001b[0m\u001b[0;31m:\u001b[0m positional argument follows keyword argument\n"
     ]
    }
   ],
   "source": [
    "# passing first argument by keyword and second by position\n",
    "# this will return a `SyntaxError: positional argument follows keyword argument`\n",
    "\n",
    "example_function(a=6, 8)"
   ]
  },
  {
   "cell_type": "code",
   "execution_count": 14,
   "id": "c1c041f3-f67d-49f2-8dbe-f68a4d71159b",
   "metadata": {},
   "outputs": [
    {
     "data": {
      "text/plain": [
       "48"
      ]
     },
     "execution_count": 14,
     "metadata": {},
     "output_type": "execute_result"
    }
   ],
   "source": [
    "# passing all arguments by keyword\n",
    "example_function(b=8, a=6)"
   ]
  },
  {
   "cell_type": "code",
   "execution_count": 16,
   "id": "a311e5fc-9ad0-4795-b2ba-e350adcb2fb8",
   "metadata": {},
   "outputs": [],
   "source": [
    "# function that receives a list of numbers and an index, and returns the element at that index\n",
    "def element_from_list(list_of_elements, index):\n",
    "    return list_of_elements[index]"
   ]
  },
  {
   "cell_type": "code",
   "execution_count": 17,
   "id": "5170cc48-cf14-4a6b-9c99-4f88baf983cc",
   "metadata": {},
   "outputs": [
    {
     "data": {
      "text/plain": [
       "2"
      ]
     },
     "execution_count": 17,
     "metadata": {},
     "output_type": "execute_result"
    }
   ],
   "source": [
    "element_from_list([1, 2, 3], 1)"
   ]
  },
  {
   "cell_type": "code",
   "execution_count": 18,
   "id": "313ed16b-e4ae-47d3-b444-f49451b56c44",
   "metadata": {},
   "outputs": [
    {
     "data": {
      "text/plain": [
       "2"
      ]
     },
     "execution_count": 18,
     "metadata": {},
     "output_type": "execute_result"
    }
   ],
   "source": [
    "element_from_list([1, 2, 3], index=1)"
   ]
  },
  {
   "cell_type": "code",
   "execution_count": 20,
   "id": "7d7bbb20-a8eb-4097-93c4-468295218477",
   "metadata": {},
   "outputs": [
    {
     "ename": "SyntaxError",
     "evalue": "positional argument follows keyword argument (3300019828.py, line 2)",
     "output_type": "error",
     "traceback": [
      "\u001b[0;36m  File \u001b[0;32m\"/var/folders/kn/gt9ggj051wdfjnfqv8xjl8qh0000gn/T/ipykernel_41658/3300019828.py\"\u001b[0;36m, line \u001b[0;32m2\u001b[0m\n\u001b[0;31m    element_from_list(list_of_elements=[1, 2, 3], 1)\u001b[0m\n\u001b[0m                                                  ^\u001b[0m\n\u001b[0;31mSyntaxError\u001b[0m\u001b[0;31m:\u001b[0m positional argument follows keyword argument\n"
     ]
    }
   ],
   "source": [
    "# SyntaxError: positional argument follows keyword argument\n",
    "element_from_list(list_of_elements=[1, 2, 3], 1)"
   ]
  },
  {
   "cell_type": "code",
   "execution_count": 21,
   "id": "5b6ad9f2-22e0-4701-9da9-4aea8b162d48",
   "metadata": {},
   "outputs": [
    {
     "data": {
      "text/plain": [
       "2"
      ]
     },
     "execution_count": 21,
     "metadata": {},
     "output_type": "execute_result"
    }
   ],
   "source": [
    "element_from_list(list_of_elements=[1, 2, 3], index=1)"
   ]
  },
  {
   "cell_type": "markdown",
   "id": "e7b302b0-84f5-44cc-93a1-bf5d37bb501d",
   "metadata": {},
   "source": [
    "### Default arguments:\n",
    "\n",
    "When using functions that *almost* always will use a certain value for one of the arguments, we can specify that the *default* value is that, yet the user can change it by passing another value in the call.\n",
    "\n",
    "The syntax for this is the following:\n",
    "```Python\n",
    "def my_func(arg1, arg2, default_arg=default_arg_value):\n",
    "    do_something\n",
    "    return something\n",
    "```\n",
    "\n",
    "That way, we can only specify the non-default arguments in the call. Or if we don't want the default value, we can pass that one too with another value."
   ]
  },
  {
   "cell_type": "code",
   "execution_count": 22,
   "id": "b853020d-9063-4282-a346-b7c7a6e14dcf",
   "metadata": {},
   "outputs": [],
   "source": [
    "# create a function that returns a greeting message\n",
    "\n",
    "def greeting(name, msg=\"Good morning\"):\n",
    "    final_msg = f\"{msg}, {name}!\"\n",
    "    print(final_msg)"
   ]
  },
  {
   "cell_type": "code",
   "execution_count": 23,
   "id": "040558f9-542a-40e1-9651-832b7eae2002",
   "metadata": {},
   "outputs": [
    {
     "name": "stdout",
     "output_type": "stream",
     "text": [
      "Good morning, Daniel!\n"
     ]
    }
   ],
   "source": [
    "# using the default argument\n",
    "\n",
    "greeting(\"Daniel\")"
   ]
  },
  {
   "cell_type": "code",
   "execution_count": 24,
   "id": "53dcb97d-a5d9-4771-81c9-f9678bd54101",
   "metadata": {},
   "outputs": [
    {
     "name": "stdout",
     "output_type": "stream",
     "text": [
      "Nice shirt, Daniel!\n"
     ]
    }
   ],
   "source": [
    "# changing the value of the default argument when calling the function\n",
    "\n",
    "greeting(\"Daniel\", \"Nice shirt\")"
   ]
  },
  {
   "cell_type": "markdown",
   "id": "6ecd9e16-81e5-4fc1-a052-705b921351eb",
   "metadata": {},
   "source": [
    "## Lambda functions\n",
    "\n",
    "`lambda` functions are functions that we can create for a single use, without storing them in memory, and without a name associated to them.\n",
    "\n",
    "This type of functions allows us to create expressions on the fly when we need to pass functions as arguments, for example.\n",
    "\n",
    "We can define `lambda` functions with the following syntax:\n",
    "```Python\n",
    "lambda arg1, ..., argN: do_something_with_args\n",
    "\n",
    "```\n",
    "The equivalent with user-defined functions would be:\n",
    "```Python\n",
    "def func_name(arg1, ..., argN): \n",
    "    result = do_something_with_args\n",
    "    return result\n",
    "```\n",
    "\n",
    "As we can see, with `lambda` functions we don't specify a name, nor we specify what's the return.\n",
    "\n",
    "Let's see the pros and cons of `lambda` functions:\n",
    "* Pros\n",
    "    * Good to use when in need of something quick and simple\n",
    "    * Don't need to define them before using them\n",
    "* Cons\n",
    "    * They can only perform 1 operation\n",
    "    * If the operation is complex it's better to use an UDF\n",
    "    * If in need of commenting and docstrings, use an UDF instead\n",
    "    \n",
    "We can assign `lambda` functions to variables, but it's discouraged its use as that. If you want to save the operation under a name to reuse it then use an User-defined function."
   ]
  },
  {
   "cell_type": "code",
   "execution_count": 25,
   "id": "2a3f5479-cbc7-41ef-b67d-a54c04f05ed7",
   "metadata": {},
   "outputs": [
    {
     "data": {
      "text/plain": [
       "125"
      ]
     },
     "execution_count": 25,
     "metadata": {},
     "output_type": "execute_result"
    }
   ],
   "source": [
    "# we can do this\n",
    "g = lambda x, y: (x+y)**3\n",
    "\n",
    "g(2, 3)"
   ]
  },
  {
   "cell_type": "code",
   "execution_count": 26,
   "id": "dccdb287-327a-434b-a181-1a637e53c93a",
   "metadata": {},
   "outputs": [
    {
     "data": {
      "text/plain": [
       "125"
      ]
     },
     "execution_count": 26,
     "metadata": {},
     "output_type": "execute_result"
    }
   ],
   "source": [
    "# but for that use case do this instead\n",
    "def operation_xy(x, y):\n",
    "    return (x+y)**3\n",
    "\n",
    "operation_xy(2, 3)"
   ]
  },
  {
   "cell_type": "markdown",
   "id": "7cd16e9a-9664-4ea0-8cbe-5226c603eaaf",
   "metadata": {},
   "source": [
    "### Passing lambda functions as arguments of other methods/functions\n",
    "\n",
    "The strength of `lambda` functions is when in need to pass a function to another method or function as argument.\n",
    "\n",
    "There are many expressions in Python that receive such arguments like `map`, `sort`, `filter`, `apply` in `pandas`, etc.\n",
    "\n",
    "Let's review `map`, `sorted` and `filter`"
   ]
  },
  {
   "cell_type": "markdown",
   "id": "60fa3315-57d8-4a0a-9551-99b5e670f9d8",
   "metadata": {},
   "source": [
    "#### `map`\n",
    "\n",
    "`map` allows us to apply a function to an iterable and save each result in another iterable.\n",
    "\n",
    "For example, the following operation: create a list with the square of each element included in another list:"
   ]
  },
  {
   "cell_type": "code",
   "execution_count": 32,
   "id": "9765f0a3-fea0-45d3-a97d-831419cfec80",
   "metadata": {},
   "outputs": [
    {
     "data": {
      "text/plain": [
       "[1, 4, 9]"
      ]
     },
     "execution_count": 32,
     "metadata": {},
     "output_type": "execute_result"
    }
   ],
   "source": [
    "my_list = [1, 2, 3]\n",
    "\n",
    "list(map(lambda x: x**2, my_list))"
   ]
  },
  {
   "cell_type": "code",
   "execution_count": 33,
   "id": "97b86b69-081d-42eb-b0cd-17a0bbcc48e9",
   "metadata": {},
   "outputs": [
    {
     "data": {
      "text/plain": [
       "[1, 4, 9]"
      ]
     },
     "execution_count": 33,
     "metadata": {},
     "output_type": "execute_result"
    }
   ],
   "source": [
    "# we can also do it with list comprehensions\n",
    "\n",
    "[x**2 for x in my_list]"
   ]
  },
  {
   "cell_type": "code",
   "execution_count": 34,
   "id": "1b54bcce-a79c-4333-bccb-c0a802892432",
   "metadata": {},
   "outputs": [
    {
     "data": {
      "text/plain": [
       "[1, 4, 9]"
      ]
     },
     "execution_count": 34,
     "metadata": {},
     "output_type": "execute_result"
    }
   ],
   "source": [
    "# we can also do it with for loops\n",
    "\n",
    "squares = []\n",
    "for item in my_list:\n",
    "    squares.append(item**2)\n",
    "    \n",
    "squares"
   ]
  },
  {
   "cell_type": "code",
   "execution_count": 35,
   "id": "33433ee7-2e19-4b12-b6b7-50ace60d6693",
   "metadata": {},
   "outputs": [
    {
     "data": {
      "text/plain": [
       "[1, 4, 9]"
      ]
     },
     "execution_count": 35,
     "metadata": {},
     "output_type": "execute_result"
    }
   ],
   "source": [
    "# we can also pass a user-defined function to `map`\n",
    "def squared(x):\n",
    "    return x**2\n",
    "\n",
    "list(map(squared, my_list))"
   ]
  },
  {
   "cell_type": "markdown",
   "id": "72320fac-6532-45f1-a29f-da93f0f3bf8b",
   "metadata": {},
   "source": [
    "#### `filter`\n",
    "\n",
    "`filter` allows us to screen out values from an iterable, and save the remaining ones in another iterable.\n",
    "\n",
    "We can use it to filter all the odd numbers in a list of numbers. Or we can do it in many different ways.\n",
    "\n",
    "For example: filtering all the even number between 1 and 30."
   ]
  },
  {
   "cell_type": "code",
   "execution_count": 36,
   "id": "d569c51d-1697-45a6-96fc-3458b3d75090",
   "metadata": {},
   "outputs": [
    {
     "name": "stdout",
     "output_type": "stream",
     "text": [
      "[2, 4, 6, 8, 10, 12, 14, 16, 18, 20, 22, 24, 26, 28, 30]\n"
     ]
    }
   ],
   "source": [
    "\n",
    "# using for loops\n",
    "my_list = list(range(1, 31))\n",
    "\n",
    "even_numbers = []\n",
    "for item in my_list:\n",
    "    if item % 2 == 0:\n",
    "        even_numbers.append(item)\n",
    "        \n",
    "print(even_numbers)"
   ]
  },
  {
   "cell_type": "code",
   "execution_count": 37,
   "id": "d7904358-3f6a-41e4-a3c7-e5e04b2ea176",
   "metadata": {},
   "outputs": [
    {
     "name": "stdout",
     "output_type": "stream",
     "text": [
      "[2, 4, 6, 8, 10, 12, 14, 16, 18, 20, 22, 24, 26, 28, 30]\n"
     ]
    }
   ],
   "source": [
    "# using list comprehensions\n",
    "my_list = list(range(1, 31))\n",
    "\n",
    "even_numbers = [item for item in my_list if item % 2 == 0]\n",
    "\n",
    "print(even_numbers)"
   ]
  },
  {
   "cell_type": "code",
   "execution_count": 38,
   "id": "8ef96b60-5d56-4b86-b691-9a88ae02c2ae",
   "metadata": {},
   "outputs": [
    {
     "data": {
      "text/plain": [
       "[2, 4, 6, 8, 10, 12, 14, 16, 18, 20, 22, 24, 26, 28, 30]"
      ]
     },
     "execution_count": 38,
     "metadata": {},
     "output_type": "execute_result"
    }
   ],
   "source": [
    "#using filter with lambda\n",
    "\n",
    "list(filter(lambda x: x%2==0, my_list))"
   ]
  },
  {
   "cell_type": "code",
   "execution_count": 39,
   "id": "49db73be-5e19-4fc2-96f1-dfd2bb3fcecd",
   "metadata": {},
   "outputs": [
    {
     "data": {
      "text/plain": [
       "[2, 4, 6, 8, 10, 12, 14, 16, 18, 20, 22, 24, 26, 28, 30]"
      ]
     },
     "execution_count": 39,
     "metadata": {},
     "output_type": "execute_result"
    }
   ],
   "source": [
    "# with filter and udf\n",
    "\n",
    "def is_even(x):\n",
    "    return x%2==0\n",
    "\n",
    "list(filter(is_even, my_list))"
   ]
  },
  {
   "cell_type": "markdown",
   "id": "8dcd70ea-9a28-438a-abad-4647125fc14c",
   "metadata": {},
   "source": [
    "#### `sorted`\n",
    "\n",
    "There are some containers that can be ordered according to what we want, but others no. In some cases, we need to create sub-structures that can be ordered, and then go back to the original type once ordered.\n",
    "\n",
    "We can order containers with `sorted` and `lambda` functions."
   ]
  },
  {
   "cell_type": "code",
   "execution_count": 40,
   "id": "3336932a-87f4-4fcd-8f94-e8005f7f1271",
   "metadata": {},
   "outputs": [
    {
     "data": {
      "text/plain": [
       "['bottle', 'chair', 'dog', 'laptop', 'screen', 'wall']"
      ]
     },
     "execution_count": 40,
     "metadata": {},
     "output_type": "execute_result"
    }
   ],
   "source": [
    "# sort a list of words\n",
    "my_list = [\"bottle\", \"laptop\", \"screen\", \"chair\", \"dog\", \"wall\"]\n",
    "\n",
    "sorted(my_list)"
   ]
  },
  {
   "cell_type": "markdown",
   "id": "d408bf18-6e8f-4a1f-949f-1e0379dea28c",
   "metadata": {},
   "source": [
    "By default, and if not specified `sorted` will sort according to the alphanumeric order. If we want other orders, we need to specify it in the `key` argument. \n",
    "\n",
    "`key` receives a function that will be used to sort our container. This function can be defined out or `sorted` as a user-defined function, OR we can use a `lambda` function within the `sorted`!"
   ]
  },
  {
   "cell_type": "code",
   "execution_count": 41,
   "id": "0e918d13-0936-4689-848d-f6563b55dafb",
   "metadata": {},
   "outputs": [
    {
     "data": {
      "text/plain": [
       "['bottle', 'dog', 'wall', 'screen', 'laptop', 'chair']"
      ]
     },
     "execution_count": 41,
     "metadata": {},
     "output_type": "execute_result"
    }
   ],
   "source": [
    "# using user-defined functions\n",
    "\n",
    "def sort_by_last_letter(word):\n",
    "    return word[::-1]\n",
    "\n",
    "sorted(my_list, key=sort_by_last_letter)"
   ]
  },
  {
   "cell_type": "code",
   "execution_count": 42,
   "id": "1eb781ef-8b3d-4dda-a0d5-7521dee7bfa4",
   "metadata": {},
   "outputs": [
    {
     "data": {
      "text/plain": [
       "['bottle', 'dog', 'wall', 'screen', 'laptop', 'chair']"
      ]
     },
     "execution_count": 42,
     "metadata": {},
     "output_type": "execute_result"
    }
   ],
   "source": [
    "# using lambda functions\n",
    "\n",
    "sorted(my_list, key=lambda word: word[::-1])"
   ]
  },
  {
   "cell_type": "markdown",
   "id": "1aa6ac21-15bb-4818-ae28-2a6942551195",
   "metadata": {},
   "source": [
    "We can use `sorted` to sort dictionaries. \n",
    "\n",
    "Actually, what we can do is to convert our dictionary into a list of tuples with `dict.items()` and then sort that list."
   ]
  },
  {
   "cell_type": "code",
   "execution_count": 43,
   "id": "9345b808-ef37-4599-8a85-b9a686fc4f59",
   "metadata": {},
   "outputs": [
    {
     "name": "stdout",
     "output_type": "stream",
     "text": [
      "dict_items([('bottle', 6), ('dog', 3), ('wall', 4), ('screen', 6), ('laptop', 6), ('chair', 5)])\n"
     ]
    }
   ],
   "source": [
    "# define dictionary\n",
    "my_dict = {'bottle': 6, 'dog': 3, 'wall': 4, 'screen': 6, 'laptop': 6, 'chair': 5}\n",
    "\n",
    "# convert dictionary to list of tuples with `dict.items()`\n",
    "my_dict_items = my_dict.items()\n",
    "\n",
    "print(my_dict_items)"
   ]
  },
  {
   "cell_type": "code",
   "execution_count": 44,
   "id": "40c99333-b289-43d5-bb1e-9ccd89a1ad36",
   "metadata": {},
   "outputs": [
    {
     "data": {
      "text/plain": [
       "[('bottle', 6),\n",
       " ('chair', 5),\n",
       " ('dog', 3),\n",
       " ('laptop', 6),\n",
       " ('screen', 6),\n",
       " ('wall', 4)]"
      ]
     },
     "execution_count": 44,
     "metadata": {},
     "output_type": "execute_result"
    }
   ],
   "source": [
    "# now we can sort our list by the key\n",
    "new_items = sorted(my_dict_items, key=lambda tpl: tpl[0]) \n",
    "\n",
    "new_items"
   ]
  },
  {
   "cell_type": "code",
   "execution_count": 45,
   "id": "18132c44-d30b-44c0-b1d3-b3adc89fab46",
   "metadata": {},
   "outputs": [
    {
     "data": {
      "text/plain": [
       "{'bottle': 6, 'chair': 5, 'dog': 3, 'laptop': 6, 'screen': 6, 'wall': 4}"
      ]
     },
     "execution_count": 45,
     "metadata": {},
     "output_type": "execute_result"
    }
   ],
   "source": [
    "# and now we can convert our list of tuples into a dictionary\n",
    "\n",
    "new_dict = dict(new_items)\n",
    "\n",
    "new_dict"
   ]
  },
  {
   "cell_type": "markdown",
   "id": "1e4091fe-ff3c-474f-b79d-99fc263985fe",
   "metadata": {},
   "source": [
    "## Practice"
   ]
  },
  {
   "cell_type": "markdown",
   "id": "a087643e-a3f2-4e60-bc23-61b61b36853d",
   "metadata": {},
   "source": [
    "### Exercise 1:\n",
    "\n",
    "Create a function that receives a string and returns a dictionary in the following form:\n",
    "\n",
    "```Python\n",
    "{\n",
    "    \"num_words\": number_of_words,\n",
    "    \"total_length\": total_length_of_string,\n",
    "    \"average_word_length\": average_length_of_words\n",
    "}\n",
    "```"
   ]
  },
  {
   "cell_type": "code",
   "execution_count": 48,
   "id": "740aea19-47fa-4ff5-8c6c-3ea920f02b75",
   "metadata": {},
   "outputs": [],
   "source": [
    "def string_to_dict(string):\n",
    "\n",
    "    # list with the individual words\n",
    "    words = string.split()\n",
    "\n",
    "    # number of words in list `words`\n",
    "    num_words = len(words)\n",
    "\n",
    "    # total length of the original string\n",
    "    total_length = len(string)\n",
    "\n",
    "    # sum of all the lengths of the words in the list `words`\n",
    "    sum_of_lengths = sum([len(word) for word in words])\n",
    "\n",
    "    # calculate the average word length\n",
    "    average_word_length = sum_of_lengths / num_words\n",
    "\n",
    "    # build the dictionary\n",
    "    dict_result = {\n",
    "        \"num_words\": num_words,\n",
    "        \"total_length\": total_length,\n",
    "        \"average_word_length\": average_word_length\n",
    "    }\n",
    "    \n",
    "    return dict_result"
   ]
  },
  {
   "cell_type": "code",
   "execution_count": 49,
   "id": "712fb9b6",
   "metadata": {},
   "outputs": [
    {
     "data": {
      "text/plain": [
       "{'num_words': 3, 'total_length': 13, 'average_word_length': 3.6666666666666665}"
      ]
     },
     "execution_count": 49,
     "metadata": {},
     "output_type": "execute_result"
    }
   ],
   "source": [
    "string_to_dict(\"I love Python\")"
   ]
  },
  {
   "cell_type": "markdown",
   "id": "040fd218-01c1-4186-9560-aa5b638c0b41",
   "metadata": {
    "tags": []
   },
   "source": [
    "### Exercise 2:\n",
    "\n",
    "Create a function that calculates the area between two concentric circles, using 3.1415 as default value for Pi argument and then the radii of the circles as arguments."
   ]
  },
  {
   "cell_type": "code",
   "execution_count": 50,
   "id": "265a1f62-29c0-4569-9db9-5fcaa1a0fe79",
   "metadata": {},
   "outputs": [
    {
     "data": {
      "text/plain": [
       "50.264"
      ]
     },
     "execution_count": 50,
     "metadata": {},
     "output_type": "execute_result"
    }
   ],
   "source": [
    "def area_concentric_circles(radius_A, radius_B, pi=3.1415):\n",
    "    if radius_A > radius_B:\n",
    "        area = pi * (radius_A**2 - radius_B**2)\n",
    "    else:\n",
    "        area = pi * (radius_B**2 - radius_A**2)\n",
    "    return area\n",
    "\n",
    "area_concentric_circles(5, 3)"
   ]
  },
  {
   "cell_type": "markdown",
   "id": "12588792-016e-46c5-8e55-626560601bfb",
   "metadata": {},
   "source": [
    "### Exercise 3:\n",
    "\n",
    "Using `math.pi` as value for Pi, calculate the error we're incurring in the previous exercise by using 3.1415 as value for Pi.\n",
    "\n",
    "```Python\n",
    "import math\n",
    "\n",
    "pi = math.pi\n",
    "```"
   ]
  },
  {
   "cell_type": "code",
   "execution_count": 51,
   "id": "05b272aa-aff6-4818-88a5-5666899959f0",
   "metadata": {},
   "outputs": [
    {
     "data": {
      "text/plain": [
       "3.141592653589793"
      ]
     },
     "execution_count": 51,
     "metadata": {},
     "output_type": "execute_result"
    }
   ],
   "source": [
    "import math\n",
    "\n",
    "math.pi"
   ]
  },
  {
   "cell_type": "code",
   "execution_count": 52,
   "id": "5dad662f-6988-424d-9d75-c2f1b4cd109c",
   "metadata": {},
   "outputs": [],
   "source": [
    "import math\n",
    "\n",
    "area_with_default_pi = area_concentric_circles(5, 3) # pi = 3.1415\n",
    "\n",
    "area_with_math_pi = area_concentric_circles(5, 3, pi=math.pi) # pi = math.pi\n",
    "\n",
    "error = abs(area_with_default_pi - area_with_math_pi)"
   ]
  },
  {
   "cell_type": "code",
   "execution_count": 54,
   "id": "24507929-5c16-447c-82d4-f06c66e680c9",
   "metadata": {},
   "outputs": [
    {
     "data": {
      "text/plain": [
       "0.002949255362150871"
      ]
     },
     "execution_count": 54,
     "metadata": {},
     "output_type": "execute_result"
    }
   ],
   "source": [
    "# 0.2 % error\n",
    "100 * error / area_with_math_pi"
   ]
  },
  {
   "cell_type": "markdown",
   "id": "47f3f618-80b4-40a6-ba07-063234db7d30",
   "metadata": {},
   "source": [
    "### Exercise 4\n",
    "\n",
    "Build a function that creates a dictionary with the following keys:\n",
    "* name\n",
    "* last name\n",
    "* age\n",
    "* background\n",
    "\n",
    "The values for these keys must be arguments in the function"
   ]
  },
  {
   "cell_type": "code",
   "execution_count": 56,
   "id": "a1feb4e3-f8af-409d-a1f2-ae0b73f99296",
   "metadata": {},
   "outputs": [
    {
     "data": {
      "text/plain": [
       "{'name': 'daniel',\n",
       " 'last_name': 'garcia',\n",
       " 'age': '33',\n",
       " 'background': 'astronaut'}"
      ]
     },
     "execution_count": 56,
     "metadata": {},
     "output_type": "execute_result"
    }
   ],
   "source": [
    "def value_key(name, last_name, age, background):\n",
    "    dict_to_return = {\n",
    "        \"name\": name,\n",
    "        \"last_name\": last_name,\n",
    "        \"age\": age,\n",
    "        \"background\": background\n",
    "    }\n",
    "    return dict_to_return\n",
    "\n",
    "value_key(\"daniel\", \"garcia\", \"33\", \"astronaut\")"
   ]
  },
  {
   "cell_type": "markdown",
   "id": "fa244c59-d779-4b6d-ba78-9c4b55380e23",
   "metadata": {},
   "source": [
    "### Exercise 5\n",
    "\n",
    "Using `lambda` functions, create a list that performs the following operation \n",
    "\n",
    "$$\\sqrt{\\frac{x}{3}}$$\n",
    "\n",
    "on each element of this list of numbers:\n",
    "```Python\n",
    "numbers = [1, 2, 3, 5, 8, 13, 21, 34, 55, 89]\n",
    "```"
   ]
  },
  {
   "cell_type": "code",
   "execution_count": 58,
   "id": "b20edcbb-d71a-4ff9-856d-ec643319c0d3",
   "metadata": {},
   "outputs": [
    {
     "data": {
      "text/plain": [
       "[0.5773502691896257,\n",
       " 0.816496580927726,\n",
       " 1.0,\n",
       " 1.2909944487358056,\n",
       " 1.632993161855452,\n",
       " 2.0816659994661326,\n",
       " 2.6457513110645907,\n",
       " 3.366501646120693,\n",
       " 4.281744192888376,\n",
       " 5.446711546122731]"
      ]
     },
     "execution_count": 58,
     "metadata": {},
     "output_type": "execute_result"
    }
   ],
   "source": [
    "numbers = [1, 2, 3, 5, 8, 13, 21, 34, 55, 89]\n",
    "\n",
    "list(map(lambda x: (x/3)**0.5, numbers))"
   ]
  },
  {
   "cell_type": "code",
   "execution_count": null,
   "id": "e9ac7922-af7c-4b3b-979d-f57653393f86",
   "metadata": {},
   "outputs": [],
   "source": []
  }
 ],
 "metadata": {
  "interpreter": {
   "hash": "a9f295c814a5ce7ff0b0a20f2b13117bfaf008fc7980e281f2c2bfa8e9ec0fbf"
  },
  "kernelspec": {
   "display_name": "Python [conda env:ml2] *",
   "language": "python",
   "name": "python3"
  },
  "language_info": {
   "codemirror_mode": {
    "name": "ipython",
    "version": 3
   },
   "file_extension": ".py",
   "mimetype": "text/x-python",
   "name": "python",
   "nbconvert_exporter": "python",
   "pygments_lexer": "ipython3",
   "version": "3.8.12"
  }
 },
 "nbformat": 4,
 "nbformat_minor": 5
}
