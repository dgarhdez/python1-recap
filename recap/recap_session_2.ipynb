{
 "cells": [
  {
   "cell_type": "markdown",
   "id": "390a49ac-43ce-4ea5-8383-0e23a677ccfd",
   "metadata": {},
   "source": [
    "# Recap Session 2: Conditionals, loops, and list/set/dict comprehension "
   ]
  },
  {
   "cell_type": "markdown",
   "id": "0589bb30-c4aa-4c73-a067-da4c0d0c0073",
   "metadata": {},
   "source": [
    "## Conditionals\n",
    "\n",
    "Conditionals in Python allow us to *drive* the code based on logical conditions (`False`/`True`). By doing this, we can control which pieces of the code are run according to the result of some operations that we decide on.\n",
    "\n",
    "The usual structure is `if-elif-else`. \n",
    "\n",
    "```Python\n",
    "if condition_is_met:  # mandatory\n",
    "    do_A\n",
    "elif another_condition_is_met:  # optional, as many as you want per if.\n",
    "    # will only happen if condition is not met but another_condition is met\n",
    "    do_B\n",
    "else:  # optional, only one per if\n",
    "    # will only happen if none of the conditions above are met\n",
    "    do_C\n",
    "```\n",
    "\n",
    "Always we have to finish the `if/elif/else` lines with colon (`:`) and after those, we must indent our code with 1 tab/4 spaces."
   ]
  },
  {
   "cell_type": "code",
   "execution_count": 2,
   "id": "d13b58a4-4395-442b-b381-4387577550d9",
   "metadata": {},
   "outputs": [
    {
     "name": "stdout",
     "output_type": "stream",
     "text": [
      "5\n"
     ]
    }
   ],
   "source": [
    "word = \"hello\"\n",
    "\n",
    "if len(word)>3:\n",
    "    print(len(word))\n",
    "elif word==\"hello\":\n",
    "    print(word)\n",
    "else:\n",
    "    print(\"Length of word <= 3\")"
   ]
  },
  {
   "cell_type": "markdown",
   "id": "8c705e2d-c8d6-4fe7-88e1-ea4310b13a0d",
   "metadata": {},
   "source": [
    "As we see, it didn't print the word as stated in the `elif`. This is because the condition in the `if` was met, therefore the conditional finished there."
   ]
  },
  {
   "cell_type": "markdown",
   "id": "3c689330-e243-40e9-bd84-bdeab7827ff9",
   "metadata": {},
   "source": [
    "### One-line conditionals structure\n",
    "\n",
    "This is a neat way for defining variables based upon certain conditions, or for comprehensions.\n",
    "\n",
    "The syntax only allows `if-else` and the structure is the following:\n",
    "\n",
    "```Python\n",
    "something if condition_is_met else something_else\n",
    "```"
   ]
  },
  {
   "cell_type": "code",
   "execution_count": 3,
   "id": "770a2ea3-0ab5-43bf-91fd-220636d7f379",
   "metadata": {},
   "outputs": [
    {
     "data": {
      "text/plain": [
       "'odd'"
      ]
     },
     "execution_count": 3,
     "metadata": {},
     "output_type": "execute_result"
    }
   ],
   "source": [
    "number = 15\n",
    "\n",
    "condition = number % 2 == 0\n",
    "\n",
    "even_odd = \"even\" if condition else \"odd\"\n",
    "\n",
    "even_odd"
   ]
  },
  {
   "cell_type": "markdown",
   "id": "2bd82168-9307-4e39-a071-bc30c63b8d2e",
   "metadata": {},
   "source": [
    "## Loops"
   ]
  },
  {
   "cell_type": "markdown",
   "id": "1d3609be-69dd-4694-8062-0e6da39f5db0",
   "metadata": {},
   "source": [
    "### `for` loops\n",
    "\n",
    "With `for` loops we can repeat one or more actions. The amount of times these actions will be repeated has to be defined beforehand, in the `for` statement.\n",
    "\n",
    "The syntax is simple:\n",
    "```Python\n",
    "for element in sequence:\n",
    "    do_A\n",
    "    do_B\n",
    "    ...\n",
    "```\n",
    "\n",
    "Here `element` is a name that we choose for each item contained in `sequence`. These items can be numbers, words, or dataframes that we're iterating on.\n",
    "\n",
    "Again, we have to finish our `for` statement with colon (`:`) and indent the actions to be repeated in each iteration."
   ]
  },
  {
   "cell_type": "code",
   "execution_count": 4,
   "id": "c71ab30c-bf99-408e-80fe-fc38721c41ea",
   "metadata": {},
   "outputs": [
    {
     "name": "stdout",
     "output_type": "stream",
     "text": [
      "5\n",
      "6\n",
      "7\n",
      "8\n",
      "9\n",
      "10\n"
     ]
    }
   ],
   "source": [
    "# print all the numbers between 5 and 10, both included\n",
    "\n",
    "for number in range(5, 11):\n",
    "    print(number)"
   ]
  },
  {
   "cell_type": "code",
   "execution_count": 5,
   "id": "c29d8671-b4ed-4d83-b92a-7be36616038e",
   "metadata": {},
   "outputs": [
    {
     "data": {
      "text/plain": [
       "10"
      ]
     },
     "execution_count": 5,
     "metadata": {},
     "output_type": "execute_result"
    }
   ],
   "source": [
    "number"
   ]
  },
  {
   "cell_type": "code",
   "execution_count": 6,
   "id": "15905d96-236d-4b2a-b746-d5164bd43c29",
   "metadata": {},
   "outputs": [
    {
     "name": "stdout",
     "output_type": "stream",
     "text": [
      "d\n",
      "a\n",
      "n\n",
      "i\n",
      "e\n",
      "l\n"
     ]
    }
   ],
   "source": [
    "# print all the individual letters in my name\n",
    "\n",
    "for letter in \"daniel\":\n",
    "    print(letter)"
   ]
  },
  {
   "cell_type": "markdown",
   "id": "45a8c269-3ec8-40ff-8b1e-62dbaabdb9ba",
   "metadata": {},
   "source": [
    "We can leverage `enumerate(sequence)` to not only loop through the elements in a sequence, but also through their index.\n",
    "* `enumerate` converts a sequence in a list that contains tuples, where each tuple contains two elements:\n",
    "    * First element: the position of the element in the sequence\n",
    "    * Second element: the element itself"
   ]
  },
  {
   "cell_type": "code",
   "execution_count": 7,
   "id": "dabfe0a3-8020-4e21-8b6f-948e9f3b0705",
   "metadata": {},
   "outputs": [
    {
     "data": {
      "text/plain": [
       "[(0, 'a'), (1, 'b'), (2, 'c')]"
      ]
     },
     "execution_count": 7,
     "metadata": {},
     "output_type": "execute_result"
    }
   ],
   "source": [
    "my_list = [\"a\", \"b\", \"c\"]\n",
    "\n",
    "list(enumerate(my_list))"
   ]
  },
  {
   "cell_type": "code",
   "execution_count": 8,
   "id": "912b247e-772b-46e0-bede-37d20667edac",
   "metadata": {},
   "outputs": [
    {
     "name": "stdout",
     "output_type": "stream",
     "text": [
      "c\n",
      "e\n",
      "g\n",
      "i\n",
      "k\n",
      "m\n",
      "o\n",
      "q\n",
      "s\n",
      "u\n",
      "w\n",
      "y\n"
     ]
    }
   ],
   "source": [
    "# print all the letters whose position is odd -- remember zero-based index\n",
    "\n",
    "letters = \"abcdefghijklmnopqrstuvwxyz\"\n",
    "\n",
    "for position, letter in enumerate(letters):\n",
    "    if position % 2 == 0:\n",
    "        if letter != \"a\":\n",
    "            print(letter)"
   ]
  },
  {
   "cell_type": "markdown",
   "id": "2835bc2c-da53-45c0-88ef-b87e8ca4eb3f",
   "metadata": {
    "tags": []
   },
   "source": [
    "### `while` loops.\n",
    "\n",
    "When using `for` loops we had to specify *how many times* our loop would run for. With `while`, the loop will run if a changing condition remains `True`. The moment the condition is False, it will stop.\n",
    "\n",
    "The syntax is:\n",
    "```Python\n",
    "while condition_is_true:\n",
    "    do_A\n",
    "    change_condition\n",
    "```\n",
    "\n",
    "It's crucial to change the condition, otherwise we'll find ourselves in an infinite loop."
   ]
  },
  {
   "cell_type": "code",
   "execution_count": 11,
   "id": "dd209efb-c02a-436a-beff-7f9c334cd93c",
   "metadata": {},
   "outputs": [
    {
     "name": "stdout",
     "output_type": "stream",
     "text": [
      "5\n",
      "6\n",
      "7\n",
      "8\n",
      "9\n",
      "10\n"
     ]
    }
   ],
   "source": [
    "# print all the numbers between 5 and 10, both included\n",
    "a = 5\n",
    "\n",
    "while a <= 10:\n",
    "    print(a)\n",
    "    a += 1 # changing the condition!"
   ]
  },
  {
   "cell_type": "markdown",
   "id": "35bc3d48-9bb1-4bf6-952f-ed6fbea222ed",
   "metadata": {},
   "source": [
    "### Altering the flow: `break` and `continue`\n",
    "\n",
    "Sometimes we don't want for the whole loop to finish, other times we want to skip specific runs of our loop. We can do that with `break` and `continue`.\n",
    "\n",
    "* `break` takes the code out of the loop before finishing\n",
    "* `continue` takes the code to the next iteration in the loop, without finishing the current one"
   ]
  },
  {
   "cell_type": "code",
   "execution_count": 12,
   "id": "5bbabf76-9817-4e50-aa92-8d83d9cb0316",
   "metadata": {},
   "outputs": [
    {
     "name": "stdout",
     "output_type": "stream",
     "text": [
      "a\n",
      "b\n",
      "c\n"
     ]
    }
   ],
   "source": [
    "# break with for loop\n",
    "# print only 3 letters from a whole word\n",
    "\n",
    "word = \"abcdefghijk\"\n",
    "for i, letter in enumerate(word):\n",
    "    if i>2:\n",
    "        break\n",
    "    print(letter)\n",
    "    \n",
    "# do something "
   ]
  },
  {
   "cell_type": "code",
   "execution_count": 13,
   "id": "a109f01c-44f6-4d56-b8ff-991f6e51d18b",
   "metadata": {},
   "outputs": [
    {
     "name": "stdout",
     "output_type": "stream",
     "text": [
      "1\n",
      "2\n",
      "3\n",
      "4\n"
     ]
    }
   ],
   "source": [
    "# break with while loop\n",
    "# stop printing numbers from 1 to 10 if number is divisible by 5\n",
    "\n",
    "num = 1\n",
    "\n",
    "while True:\n",
    "    if num % 5 == 0:\n",
    "        break\n",
    "    if num == 10:\n",
    "        break\n",
    "    print(num)\n",
    "    num += 1\n"
   ]
  },
  {
   "cell_type": "code",
   "execution_count": 14,
   "id": "d055fb3f-72d1-4151-aeb7-25eae3768541",
   "metadata": {},
   "outputs": [
    {
     "name": "stdout",
     "output_type": "stream",
     "text": [
      "1\n",
      "3\n",
      "5\n",
      "7\n",
      "9\n",
      "11\n",
      "13\n"
     ]
    }
   ],
   "source": [
    "# continue with for loops\n",
    "# for numbers smaller than 15, only print the odd ones\n",
    "\n",
    "for num in range(15):\n",
    "    if num % 2 == 0:\n",
    "        continue\n",
    "    print(num)"
   ]
  },
  {
   "cell_type": "code",
   "execution_count": 15,
   "id": "cb0a564e-56eb-4db0-b770-7a4118176909",
   "metadata": {},
   "outputs": [
    {
     "name": "stdout",
     "output_type": "stream",
     "text": [
      "1\n",
      "2\n",
      "4\n",
      "5\n",
      "7\n",
      "8\n",
      "10\n",
      "11\n",
      "13\n",
      "14\n"
     ]
    }
   ],
   "source": [
    "# continue with while loops\n",
    "# for numbers smaller than 15, only print the ones not divisible by 3\n",
    "\n",
    "a = 1\n",
    "\n",
    "while a < 15:\n",
    "    if a % 3 == 0:\n",
    "        a += 1\n",
    "        continue\n",
    "    print(a)\n",
    "    a += 1\n",
    "    "
   ]
  },
  {
   "cell_type": "markdown",
   "id": "4fbcf2e1-a09b-41a9-aabb-bacdfc3de105",
   "metadata": {},
   "source": [
    "## list/set/dict comprehensions\n",
    "\n",
    "This is a great way to combine the strength of conditionals, for loops and containers.\n",
    "\n",
    "It allows us to create, modify, and filter containers with a very clear and pythonic syntax. We can use the one-line conditionals with one-line loops to create cool stuff.\n",
    "\n",
    "The basic syntax is:\n",
    "\n",
    "```Python\n",
    "[do_something_with_item for item in container]\n",
    "{do_something_with_item for item in container}\n",
    "```\n",
    "\n",
    "But we can also mix it with conditionals for doing different actions \n",
    "```Python\n",
    "[\n",
    "    do_something_with_item if condition_is_true\n",
    "    else do_something_else_with_item \n",
    "    for item in container\n",
    "]\n",
    "```\n",
    "\n",
    "Or even mix that with another condition to filter even more\n",
    "```Python\n",
    "[\n",
    "    do_something_with_item if condition_1  # operation based on condition\n",
    "    else do_something_else_with_item \n",
    "    for item in container\n",
    "    if condition_2  # filter\n",
    "]\n",
    "```\n"
   ]
  },
  {
   "cell_type": "code",
   "execution_count": 16,
   "id": "96446fa5-8345-48a6-86ae-3090e0da9203",
   "metadata": {},
   "outputs": [
    {
     "data": {
      "text/plain": [
       "'Prgrmmng wth Pythn s grt'"
      ]
     },
     "execution_count": 16,
     "metadata": {},
     "output_type": "execute_result"
    }
   ],
   "source": [
    "# create a list containing all the consonants in a specific word\n",
    "# then convert the list into a string\n",
    "\n",
    "word = \"Programming with Python is great\"\n",
    "\n",
    "consonants = [\n",
    "    letter for letter in word if letter not in \"aeiou\"\n",
    "]\n",
    "\n",
    "\"\".join(consonants)"
   ]
  },
  {
   "cell_type": "code",
   "execution_count": 17,
   "id": "64d1f041-f3d0-40ab-b97c-036249b68886",
   "metadata": {},
   "outputs": [
    {
     "name": "stdout",
     "output_type": "stream",
     "text": [
      "['renders', 'UPCOMING', 'apple', 'macbook', 'WERE', 'LEAKED', 'LAST', 'month', 'revealing', 'EXPECTED', 'THIN', 'light', 'LAPTOP', 'WITH', 'INCREDIBLY', 'SLIM', 'SIDE', 'BEZELS', 'including', 'provocative', 'APPEARANCE', 'notch', 'DISPLAY.', 'THIS', 'case,', '2022', 'macbook', 'AIR,', 'which', 'FREQUENTLY', 'BEEN', 'rumored', 'BRINGING', 'apple', 'silicon', 'WITH', 'would', 'following', 'similar', 'DESIGN', 'LANGUAGE', 'RECENTLY', 'RELEASED', 'macbook', 'macbook', 'HOWEVER,', 'LATEST', 'renders', 'HAVE', 'DONE', 'AWAY', 'WITH', 'notch', 'cost.']\n"
     ]
    }
   ],
   "source": [
    "# given a list of words, if the word is 3 characters or less, discard it\n",
    "# otherwise make it uppercase if length is even or lowercase if length is odd\n",
    "\n",
    "text_hn = \"\"\"\n",
    "Renders of the upcoming Apple MacBook Air were leaked last month revealing \n",
    "the expected thin and light laptop with incredibly slim side and top bezels \n",
    "and including the provocative appearance of a notch in the display. \n",
    "In this case, the 2022 MacBook Air, which has frequently been rumored to be \n",
    "bringing the M2 Apple Silicon with it, would end up following \n",
    "a similar design language to the recently released MacBook Pro 14 and MacBook Pro 16\n",
    ". However, the latest renders have done away with the notch – at a cost.\"\"\"\n",
    "\n",
    "list_of_words = text_hn.split()\n",
    "\n",
    "new_list = [\n",
    "    word.upper() if len(word) % 2 == 0\n",
    "    else word.lower()\n",
    "    for word in list_of_words\n",
    "    if len(word)>3\n",
    "]\n",
    "\n",
    "print(new_list)"
   ]
  },
  {
   "cell_type": "markdown",
   "id": "ea86ca8c-865c-462e-bfa9-c892928fbf89",
   "metadata": {},
   "source": [
    "### Dictionary comprehension\n",
    "\n",
    "This is just like list/tuple/set comprehensions, but now we have to include the keys and values.\n",
    "\n",
    "Remember we can loop through keys and values at the same time by using `dict.items()`.\n",
    "\n",
    "The basic syntax is:\n",
    "```Python\n",
    "# dict out of list\n",
    "{do_something_for_key:do_something_for_value for item in list}\n",
    "\n",
    "# list out of dict\n",
    "[do_something for key,value in dict.items()]\n",
    "```"
   ]
  },
  {
   "cell_type": "markdown",
   "id": "a15a9eca-8dc6-4520-a573-eee0593f5bab",
   "metadata": {
    "tags": []
   },
   "source": [
    "## Practice"
   ]
  },
  {
   "cell_type": "markdown",
   "id": "4fd5c564-cff4-46c5-ab5e-482499a25522",
   "metadata": {},
   "source": [
    "### Exercise 1:\n",
    "\n",
    "Given the letters in the abc, create a list containing the upper version of the consonants."
   ]
  },
  {
   "cell_type": "code",
   "execution_count": 21,
   "id": "f03f0c2d-566c-4f20-a570-f9d6f216b1ba",
   "metadata": {},
   "outputs": [
    {
     "name": "stdout",
     "output_type": "stream",
     "text": [
      "['B', 'C', 'D', 'F', 'G', 'H', 'J', 'K', 'L', 'M', 'N', 'P', 'Q', 'R', 'S', 'T', 'V', 'W', 'X', 'Y', 'Z']\n"
     ]
    }
   ],
   "source": [
    "# using `for` loops\n",
    "letters = \"abcdefghijklmnopqrstuvwxyz\"\n",
    "\n",
    "vowels = \"aeiou\"\n",
    "\n",
    "# empty list to store the consonants\n",
    "consonants = []\n",
    "\n",
    "# for loop to iterate through the letters\n",
    "for letter in letters:\n",
    "    \n",
    "    # check if the letter is a consonant\n",
    "    if letter not in vowels:\n",
    "        consonants.append(letter.upper())\n",
    "        \n",
    "print(consonants)"
   ]
  },
  {
   "cell_type": "code",
   "execution_count": 20,
   "id": "b80926a1-b996-4ed7-b21f-6f1b4f21b088",
   "metadata": {},
   "outputs": [
    {
     "name": "stdout",
     "output_type": "stream",
     "text": [
      "['B', 'C', 'D', 'F', 'G', 'H', 'J', 'K', 'L', 'M', 'N', 'P', 'Q', 'R', 'S', 'T', 'V', 'W', 'X', 'Y', 'Z']\n"
     ]
    }
   ],
   "source": [
    "# using list comprehensions\n",
    "letters = \"abcdefghijklmnopqrstuvwxyz\"\n",
    "\n",
    "vowels = \"aeiou\"\n",
    "\n",
    "upper_consonants = [\n",
    "    letter.upper() for letter in letters if letter not in vowels\n",
    "]\n",
    "\n",
    "print(upper_consonants)"
   ]
  },
  {
   "cell_type": "markdown",
   "id": "f2a9b423-6d36-486b-8766-618a6c8178d7",
   "metadata": {},
   "source": [
    "### Exercise 2:\n",
    "\n",
    "Create a dictionary out of a list of words, where items in even positions are the keys and items in odd positions are the values.\n",
    "\n",
    "With that dictionary, and with dict comprehensions, create a second dict that only contains keys with length lesser or equal to 6.\n",
    "\n",
    "```Python\n",
    "list_of_words = ['renders', 'upcoming', 'apple', 'macbook', 'were', 'leaked', 'last', 'month', 'revealing', 'expected', 'thin', 'light', 'laptop', 'with', 'incredibly', 'slim', 'side', 'bezels', 'including', 'provocative', 'appearance', 'notch', 'display.', 'this', 'case,', '2022', 'macbook', 'air,', 'which', 'frequently', 'been', 'rumored', 'bringing', 'apple', 'silicon', 'with', 'would', 'following', 'similar', 'design', 'language', 'recently', 'released', 'macbook', 'macbook', 'however,', 'latest', 'renders', 'have', 'done', 'away', 'with', 'notch', 'cost.']\n",
    "```"
   ]
  },
  {
   "cell_type": "code",
   "execution_count": 23,
   "id": "425d9db2-36cb-4e95-b711-c746305e62a0",
   "metadata": {},
   "outputs": [
    {
     "data": {
      "text/plain": [
       "{'apple': 'macbook',\n",
       " 'were': 'leaked',\n",
       " 'last': 'month',\n",
       " 'thin': 'light',\n",
       " 'laptop': 'with',\n",
       " 'side': 'bezels',\n",
       " 'case,': '2022',\n",
       " 'which': 'frequently',\n",
       " 'been': 'rumored',\n",
       " 'would': 'following',\n",
       " 'latest': 'renders',\n",
       " 'have': 'done',\n",
       " 'away': 'with',\n",
       " 'notch': 'cost.'}"
      ]
     },
     "execution_count": 23,
     "metadata": {},
     "output_type": "execute_result"
    }
   ],
   "source": [
    "list_of_words = [\n",
    "    'renders', 'upcoming', 'apple', 'macbook', 'were', 'leaked', \n",
    "    'last', 'month', 'revealing', 'expected', 'thin', 'light', \n",
    "    'laptop', 'with', 'incredibly', 'slim', 'side', 'bezels', \n",
    "    'including', 'provocative', 'appearance', 'notch', 'display.', \n",
    "    'this', 'case,', '2022', 'macbook', 'air,', 'which', 'frequently', \n",
    "    'been', 'rumored', 'bringing', 'apple', 'silicon', 'with', \n",
    "    'would', 'following', 'similar', 'design', 'language', 'recently',\n",
    "    'released', 'macbook', 'macbook', 'however,', 'latest', 'renders', \n",
    "    'have', 'done', 'away', 'with', 'notch', 'cost.'\n",
    "]\n",
    "\n",
    "# list with words in even positions\n",
    "even_positions = [\n",
    "    word for position, word in enumerate(list_of_words) if position % 2 == 0\n",
    "]\n",
    "\n",
    "# list with words in odd positions\n",
    "odd_positions = [\n",
    "    word for position, word in enumerate(list_of_words) if position % 2 != 0\n",
    "]    \n",
    "\n",
    "# dictionary zipping the two lists\n",
    "new_dict = dict(zip(even_positions, odd_positions))\n",
    "\n",
    "# dictionary with keys with a length of 6 or less\n",
    "new_new_dict = {\n",
    "    key:value for key, value in new_dict.items() if len(key) <= 6\n",
    "}\n",
    "\n",
    "new_new_dict"
   ]
  },
  {
   "cell_type": "markdown",
   "id": "61a24082-0d3a-409f-8b36-4fd6795d1836",
   "metadata": {
    "tags": []
   },
   "source": [
    "### Exercise 3:\n",
    "\n",
    "Create the following dictionary:\n",
    "\n",
    "```Python\n",
    "{\n",
    "    \"1\": (1, 2, 3, 4, 5, 6, 7, 8, 9),\n",
    "    \"10\": (10, 20, 30, 40, 50, 60, 70, 80, 90),\n",
    "    ...\n",
    "    \"10000\": (10000, 20000, 30000, 40000, 50000, 60000, 70000, 80000, 90000)\n",
    "}\n",
    "\n",
    "```"
   ]
  },
  {
   "cell_type": "code",
   "execution_count": 25,
   "id": "36750207-757b-4aff-8b8c-4435819082d0",
   "metadata": {},
   "outputs": [
    {
     "data": {
      "text/plain": [
       "{1: (1, 2, 3, 4, 5, 6, 7, 8, 9),\n",
       " 10: (10, 20, 30, 40, 50, 60, 70, 80, 90),\n",
       " 100: (100, 200, 300, 400, 500, 600, 700, 800, 900),\n",
       " 1000: (1000, 2000, 3000, 4000, 5000, 6000, 7000, 8000, 9000),\n",
       " 10000: (10000, 20000, 30000, 40000, 50000, 60000, 70000, 80000, 90000)}"
      ]
     },
     "execution_count": 25,
     "metadata": {},
     "output_type": "execute_result"
    }
   ],
   "source": [
    "# first we define the keys\n",
    "keys = [10**value for value in range(5)]\n",
    "\n",
    "# and the numbers between 1 and 9, both included\n",
    "numbers = range(1, 10)\n",
    "\n",
    "# empty dictionary to store the results\n",
    "my_dict = {}\n",
    "\n",
    "# nested for loops to iterate through the keys and numbers\n",
    "for key in keys:  # 1, 10, 100, 1000, 10000\n",
    "    list_numbers = []\n",
    "    for number in numbers:  # 1, 2, 3, 4, 5, 6, 7, 8, 9\n",
    "        list_numbers.append(key*number)\n",
    "    my_dict[key] = tuple(list_numbers)\n",
    "    \n",
    "my_dict"
   ]
  },
  {
   "cell_type": "markdown",
   "id": "4ebd08d2-26ef-4dba-9a39-fe7901d0d839",
   "metadata": {},
   "source": [
    "### Exercise 4:\n",
    "\n",
    "Convert:\n",
    "```Python\n",
    "{\n",
    "    \"key_1\": 1,\n",
    "    \"key_2\": 2,\n",
    "    \"key_3\": 3,\n",
    "    \"key_4\": 4\n",
    "}\n",
    "```\n",
    "\n",
    "into:\n",
    "```Python\n",
    "{\n",
    "    1: \"key_1\",\n",
    "    2: \"key_2\",\n",
    "    3: \"key_3\",\n",
    "    4: \"key_4\"\n",
    "}\n",
    "```"
   ]
  },
  {
   "cell_type": "code",
   "execution_count": 26,
   "id": "6451ed15-e8c8-40a2-9e0d-baccd53b6d47",
   "metadata": {},
   "outputs": [
    {
     "data": {
      "text/plain": [
       "{1: 'key_1', 2: 'key_2', 3: 'key_3', 4: 'key_4'}"
      ]
     },
     "execution_count": 26,
     "metadata": {},
     "output_type": "execute_result"
    }
   ],
   "source": [
    "# using keys and values\n",
    "\n",
    "original = {\n",
    "    \"key_1\": 1,\n",
    "    \"key_2\": 2,\n",
    "    \"key_3\": 3,\n",
    "    \"key_4\": 4\n",
    "}\n",
    "\n",
    "keys = original.keys()\n",
    "values = original.values()\n",
    "\n",
    "dict(zip(values, keys))"
   ]
  },
  {
   "cell_type": "code",
   "execution_count": 27,
   "id": "c10ba5b8-4273-484e-94d6-b7c26369fb9a",
   "metadata": {},
   "outputs": [
    {
     "data": {
      "text/plain": [
       "{1: 'key_1', 2: 'key_2', 3: 'key_3', 4: 'key_4'}"
      ]
     },
     "execution_count": 27,
     "metadata": {},
     "output_type": "execute_result"
    }
   ],
   "source": [
    "# using dict comprehension\n",
    "\n",
    "{value:key for key,value in original.items()}"
   ]
  },
  {
   "cell_type": "code",
   "execution_count": 28,
   "id": "74526840-895d-47f1-bea9-063bb87a4f3d",
   "metadata": {},
   "outputs": [
    {
     "data": {
      "text/plain": [
       "{1: 'key_1', 2: 'key_2', 3: 'key_3', 4: 'key_4'}"
      ]
     },
     "execution_count": 28,
     "metadata": {},
     "output_type": "execute_result"
    }
   ],
   "source": [
    "# using for loop\n",
    "new_dict = {}\n",
    "for key,value in original.items():\n",
    "    new_dict[value] = key\n",
    "    \n",
    "new_dict"
   ]
  },
  {
   "cell_type": "markdown",
   "id": "3dc32389-e1b0-4111-9deb-8bc1a32ca7ef",
   "metadata": {
    "tags": []
   },
   "source": [
    "### Exercise 5\n",
    "\n",
    "Using list comprehensions, create a list of tuples from `list_of_words` that takes the word as first element in the tuple, and the length of the word as second element in the tuple."
   ]
  },
  {
   "cell_type": "code",
   "execution_count": 29,
   "id": "7afaa5e6-567a-4418-954b-876a8c835dba",
   "metadata": {},
   "outputs": [],
   "source": [
    "list_of_words = [\n",
    "    'renders', 'upcoming', 'apple', 'macbook', 'were', 'leaked', \n",
    "    'last', 'month', 'revealing', 'expected', 'thin', 'light', \n",
    "    'laptop', 'with', 'incredibly', 'slim', 'side', 'bezels', \n",
    "    'including', 'provocative', 'appearance', 'notch', 'display.', \n",
    "    'this', 'case,', '2022', 'macbook', 'air,', 'which', 'frequently', \n",
    "    'been', 'rumored', 'bringing', 'apple', 'silicon', 'with', \n",
    "    'would', 'following', 'similar', 'design', 'language', 'recently',\n",
    "    'released', 'macbook', 'macbook', 'however,', 'latest', 'renders', \n",
    "    'have', 'done', 'away', 'with', 'notch', 'cost.'\n",
    "]"
   ]
  },
  {
   "cell_type": "code",
   "execution_count": 30,
   "id": "f025b0d3-89b9-47ca-8e25-f6377d5a1b54",
   "metadata": {},
   "outputs": [
    {
     "data": {
      "text/plain": [
       "[('renders', 7),\n",
       " ('upcoming', 8),\n",
       " ('apple', 5),\n",
       " ('macbook', 7),\n",
       " ('were', 4),\n",
       " ('leaked', 6),\n",
       " ('last', 4),\n",
       " ('month', 5),\n",
       " ('revealing', 9),\n",
       " ('expected', 8),\n",
       " ('thin', 4),\n",
       " ('light', 5),\n",
       " ('laptop', 6),\n",
       " ('with', 4),\n",
       " ('incredibly', 10),\n",
       " ('slim', 4),\n",
       " ('side', 4),\n",
       " ('bezels', 6),\n",
       " ('including', 9),\n",
       " ('provocative', 11),\n",
       " ('appearance', 10),\n",
       " ('notch', 5),\n",
       " ('display.', 8),\n",
       " ('this', 4),\n",
       " ('case,', 5),\n",
       " ('2022', 4),\n",
       " ('macbook', 7),\n",
       " ('air,', 4),\n",
       " ('which', 5),\n",
       " ('frequently', 10),\n",
       " ('been', 4),\n",
       " ('rumored', 7),\n",
       " ('bringing', 8),\n",
       " ('apple', 5),\n",
       " ('silicon', 7),\n",
       " ('with', 4),\n",
       " ('would', 5),\n",
       " ('following', 9),\n",
       " ('similar', 7),\n",
       " ('design', 6),\n",
       " ('language', 8),\n",
       " ('recently', 8),\n",
       " ('released', 8),\n",
       " ('macbook', 7),\n",
       " ('macbook', 7),\n",
       " ('however,', 8),\n",
       " ('latest', 6),\n",
       " ('renders', 7),\n",
       " ('have', 4),\n",
       " ('done', 4),\n",
       " ('away', 4),\n",
       " ('with', 4),\n",
       " ('notch', 5),\n",
       " ('cost.', 5)]"
      ]
     },
     "execution_count": 30,
     "metadata": {},
     "output_type": "execute_result"
    }
   ],
   "source": [
    "list_tuples = [(word, len(word)) for word in list_of_words]\n",
    "\n",
    "list_tuples"
   ]
  },
  {
   "cell_type": "markdown",
   "id": "6403d7ca-b495-4a89-96f2-1c036fcc0ff0",
   "metadata": {},
   "source": [
    "### Exercise 6:\n",
    "\n",
    "Take the resulting list from Ex5 and do create a dictionary with the following characteristics.\n",
    "* Keys are the letters of alphabet\n",
    "* Values are the sum of lengths of all the words in the list of tuples that start with that letter in the key"
   ]
  },
  {
   "cell_type": "code",
   "execution_count": 31,
   "id": "aa29038f-3719-47d2-8d66-739c0113dea9",
   "metadata": {},
   "outputs": [
    {
     "data": {
      "text/plain": [
       "{'a': 28,\n",
       " 'b': 18,\n",
       " 'c': 10,\n",
       " 'd': 18,\n",
       " 'e': 8,\n",
       " 'f': 19,\n",
       " 'g': 0,\n",
       " 'h': 12,\n",
       " 'i': 19,\n",
       " 'j': 0,\n",
       " 'k': 0,\n",
       " 'l': 35,\n",
       " 'm': 33,\n",
       " 'n': 10,\n",
       " 'o': 0,\n",
       " 'p': 11,\n",
       " 'q': 0,\n",
       " 'r': 46,\n",
       " 's': 22,\n",
       " 't': 8,\n",
       " 'u': 8,\n",
       " 'v': 0,\n",
       " 'w': 26,\n",
       " 'x': 0,\n",
       " 'y': 0,\n",
       " 'z': 0}"
      ]
     },
     "execution_count": 31,
     "metadata": {},
     "output_type": "execute_result"
    }
   ],
   "source": [
    "# defining alphabet\n",
    "alphabet = \"abcdefghijklmnopqrstuvwxyz\"\n",
    "\n",
    "new_dict = {}\n",
    "\n",
    "# nested for loop to iterate through the alphabet and tuples from Exercise 5\n",
    "for letter in alphabet:\n",
    "    counter = 0\n",
    "    for tpl in list_tuples:\n",
    "        if tpl[0][0] == letter:\n",
    "            counter += len(tpl[0])\n",
    "    new_dict[letter] = counter\n",
    "    \n",
    "new_dict"
   ]
  }
 ],
 "metadata": {
  "interpreter": {
   "hash": "a9f295c814a5ce7ff0b0a20f2b13117bfaf008fc7980e281f2c2bfa8e9ec0fbf"
  },
  "kernelspec": {
   "display_name": "Python [conda env:ml2] *",
   "language": "python",
   "name": "python3"
  },
  "language_info": {
   "codemirror_mode": {
    "name": "ipython",
    "version": 3
   },
   "file_extension": ".py",
   "mimetype": "text/x-python",
   "name": "python",
   "nbconvert_exporter": "python",
   "pygments_lexer": "ipython3",
   "version": "3.8.12"
  }
 },
 "nbformat": 4,
 "nbformat_minor": 5
}
